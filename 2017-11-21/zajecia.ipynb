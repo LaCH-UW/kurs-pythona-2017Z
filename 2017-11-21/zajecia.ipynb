{
 "cells": [
  {
   "cell_type": "markdown",
   "metadata": {},
   "source": [
    "## Ćwiczenie 1: Sprawdź ile znaków jest w pierwszym tomie Lalki\n",
    "Powinien on być na ścieżce `../dane/lalka-tom-pierwszy.txt`; zrób w komórce poniżej."
   ]
  },
  {
   "cell_type": "code",
   "execution_count": 2,
   "metadata": {},
   "outputs": [
    {
     "name": "stdout",
     "output_type": "stream",
     "text": [
      "Prawda\n"
     ]
    }
   ],
   "source": [
    "\n",
    "a = False\n",
    "\n",
    "if not a:\n",
    "    print('Prawda')\n",
    "\n"
   ]
  },
  {
   "cell_type": "markdown",
   "metadata": {},
   "source": [
    "## Ćwiczenie 2:\n",
    "### 1. Weź 20 pierwszych \"słów\" z tekstu Lalki.\n",
    "### 2. Policz ile razy każde z nich występuje w tekście.\n",
    "Zrób to w komórce poniżej."
   ]
  },
  {
   "cell_type": "code",
   "execution_count": null,
   "metadata": {},
   "outputs": [],
   "source": []
  },
  {
   "cell_type": "markdown",
   "metadata": {},
   "source": [
    "## Ćwiczenie 3: Wykonaj polecenia z ćwiczenia 2 licząc \"bardziej słowa\". Porównaj wyniki."
   ]
  },
  {
   "cell_type": "code",
   "execution_count": null,
   "metadata": {},
   "outputs": [],
   "source": []
  },
  {
   "cell_type": "markdown",
   "metadata": {},
   "source": [
    "## Ćwiczenie 4: Zbuduj (i obejrzyj) mapę znaków i ich klas unicode'owych\n",
    "\n",
    "Zrób to w komórce poniżej."
   ]
  },
  {
   "cell_type": "code",
   "execution_count": null,
   "metadata": {},
   "outputs": [],
   "source": []
  },
  {
   "cell_type": "markdown",
   "metadata": {},
   "source": [
    "## Ćwiczenie 5: policz, ile osób jest w Lalce wymienionych jako \"pan Jakiśtam\"\n",
    "### Przyjmijmy, że interesują nas tylko wyrażenia mianownikowe, w których słowo po \"pan\" zaczyna się wielką literą.\n",
    "Oczywiście pan Wokulski i pan Stanisław to na potrzeby tego ćwiczenia dwie różne \"postaci\".\n",
    "\n",
    "Zrób to w komórce poniżej."
   ]
  },
  {
   "cell_type": "code",
   "execution_count": null,
   "metadata": {},
   "outputs": [],
   "source": []
  }
 ],
 "metadata": {
  "kernelspec": {
   "display_name": "Python 3",
   "language": "python",
   "name": "python3"
  },
  "language_info": {
   "codemirror_mode": {
    "name": "ipython",
    "version": 3
   },
   "file_extension": ".py",
   "mimetype": "text/x-python",
   "name": "python",
   "nbconvert_exporter": "python",
   "pygments_lexer": "ipython3",
   "version": "3.5.2"
  }
 },
 "nbformat": 4,
 "nbformat_minor": 2
}
