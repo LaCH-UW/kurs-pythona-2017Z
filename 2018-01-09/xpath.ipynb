{
 "cells": [
  {
   "cell_type": "code",
   "execution_count": null,
   "metadata": {},
   "outputs": [],
   "source": [
    "import requests\n",
    "from lxml import html\n",
    "\n",
    "# w ramach próby uporządkowania bałaganu terminologicznego:\n",
    "# <a href=\"http://example.com\">ważna <b>treść</b></a>\n",
    "# całe powyższe to węzeł (node) html ze znacznikiem (tag) 'a' [skrótowo będę mówił/pisał \"węzeł a\"], \n",
    "#   z atrybutem 'href' o wartości 'http://example.com', mający dwoje dzieci:\n",
    "#   węzeł tekstowy ('ważna') i węzeł 'b' (który ma z kolei pojedyncze dziecko, węzeł tekstowy 'treść')\n",
    "# spostrzeżenie: węzły tekstowe nie mogą mieć dzieci\n",
    "\n",
    "# pobranie zawartości strony\n",
    "response = requests.get('https://en.wikipedia.org/wiki/Catholic_religious_order')\n",
    "# przeparsowanie html i zbudowanie drzewa; pod zmienną tree ląduje korzeń drzewa (węzeł ze znacznikiem html); \n",
    "#  html.fromstring buduje drzewo ze stringa\n",
    "tree = html.fromstring(response.content)\n",
    "\n",
    "# prosta funkcja wypisująca węzły drzewa; ciekawostka: funkcja jest rekurencyjna (woła sama siebie)\n",
    "#  uwaga: pisząc funkcje rekurencyjne należy być ostrożnym, da się w ten sposób stworzyć program, który nigdy \n",
    "#   się nie kończy (prawie, python wysypie się gdy wykryje bardzo-bardzo dużo wywołań rekurencyjnych);\n",
    "#   tutaj zawsze przechodzimy dokładnie raz po każdym dziecku każdego elementu, więc nie ma tego ryzyka\n",
    "def describe(t, depth=0):\n",
    "    print(depth * ' ', t.tag)\n",
    "    for sub in t:\n",
    "        describe(sub, depth + 1)\n",
    "\n",
    "describe(tree.xpath('.//tr')[0])"
   ]
  },
  {
   "cell_type": "code",
   "execution_count": null,
   "metadata": {},
   "outputs": [],
   "source": [
    "# przypomnienie: funkcja xpath zawsze zwraca listę pasujących węzłów; może ona być pusta (nic nie pasuje);\n",
    "#  jeśli pasuje jeden element, lista jest jednoelementowa\n",
    "\n",
    "# wszystkie tabele na stronie (\"potomkowie (descendant) korzenia z tagiem table\")\n",
    "tbs = tree.xpath(\"//table\")\n",
    "\n",
    "# cały tekst zawarty w pierwszej tabeli (\"wszystkie węzły tekstowe będące potomkami węzła pod tbl_1\")\n",
    "#  uwaga: kropka na początku xpatha oznacza, że szukamy potomków danego węzła, a nie korzenia drzewa\n",
    "tbl_1 = tbs[0]\n",
    "tbl_1.xpath(\".//text()\")"
   ]
  },
  {
   "cell_type": "code",
   "execution_count": null,
   "metadata": {},
   "outputs": [],
   "source": [
    "# \"\".join woła się na elemencie, którym chce się połączyć argumenty metody .join\n",
    "print(\"\".join(tree.xpath(\"//table\")[0].xpath(\".//text()\")))\n",
    "# warto zauważyć, że jeśli wypiszemy zmienną bez printa, znaki specjalne nie zostaną zinteretowane\n",
    "#  -- zobaczymy '\\n' zamiast faktycznych złamań wierszy"
   ]
  },
  {
   "cell_type": "code",
   "execution_count": null,
   "metadata": {},
   "outputs": [],
   "source": [
    "# przypomnienie na marginesie: print() woła na obiekcie, który dostaje, funkcję str();\n",
    "#                            wypisywanie jako wyniku komórki woła funkcję repr()\n",
    "#  warto porównać:\n",
    "print('a\\na')\n",
    "print(str('a\\na'))  # funkcjonalnie to samo, co powyżej\n",
    "print(repr('a\\na'))"
   ]
  },
  {
   "cell_type": "code",
   "execution_count": null,
   "metadata": {},
   "outputs": [],
   "source": [
    "# wszystkie wiersze (tr, table row) pierwszej tabeli\n",
    "tree.xpath(\"//table\")[0].xpath(\".//tr\")"
   ]
  },
  {
   "cell_type": "code",
   "execution_count": null,
   "metadata": {},
   "outputs": [],
   "source": [
    "# poniższe niezbyt intuicyjnie zwróci wszystkie wiersze tabel na całej stronie\n",
    "tree.xpath(\"//table\")[0].xpath(\"//tr\")"
   ]
  },
  {
   "cell_type": "code",
   "execution_count": null,
   "metadata": {},
   "outputs": [],
   "source": [
    "# wszystkie węzły tekstowe pierwszej komówki (td, table data) pierwszego wiersza pierwszej tabeli\n",
    "# uwaga: xpath numeruje od 1!\n",
    "tree.xpath(\"//table\")[0].xpath(\".//tr[1]/td\")[0].xpath(\".//text()\")"
   ]
  },
  {
   "cell_type": "code",
   "execution_count": null,
   "metadata": {},
   "outputs": [],
   "source": [
    "# wypisujemy wszystkie węzły tekstowe z wytłuszczeniem (b, bold) w komórkach wierszy pierwszej tabeli\n",
    "for i in tree.xpath(\"//table\")[0].xpath(\".//tr/td/b/text()\"):\n",
    "    print(i)"
   ]
  },
  {
   "cell_type": "code",
   "execution_count": null,
   "metadata": {},
   "outputs": [],
   "source": [
    "# wszystkie komórki (td) takie, że ich dzieckiem jest pogrubienie, w wierszach pierwszej tabeli\n",
    "tree.xpath(\"//table[1]//tr/td[b]\")"
   ]
  },
  {
   "cell_type": "code",
   "execution_count": null,
   "metadata": {},
   "outputs": [],
   "source": [
    "# wszystkie komórki (td) takie, że ich dzieckiem NIE jest pogrubienie, w wierszach pierwszej tabeli\n",
    "tree.xpath(\"//table[1]//tr/td[not(b)]\")"
   ]
  },
  {
   "cell_type": "code",
   "execution_count": null,
   "metadata": {},
   "outputs": [],
   "source": [
    "# uwaga: ponizsze zwróci wiersze, w których ŻADNA komórka nie zawiera pogrubienia jako dziecka\n",
    "tree.xpath(\"//table[1]//tr[not(td/b)]\")"
   ]
  },
  {
   "cell_type": "code",
   "execution_count": null,
   "metadata": {},
   "outputs": [],
   "source": [
    "# ponizsze zwróci wiersze, w których przynajmniej jedna komórka pogrubienia jako dziecko\n",
    "tree.xpath(\"//table[1]//tr[td/b]\")"
   ]
  },
  {
   "cell_type": "code",
   "execution_count": null,
   "metadata": {},
   "outputs": [],
   "source": [
    "# wszystkie wiersze takie, że przynajmniej jedna komórka ma atrybut (por. linia 5nn) 'align' o wartości 'center'\n",
    "#  atrybuty, jak widać, oznaczamy \"małpą\"\n",
    "tree.xpath('//table[1]//tr[td/@align=\"center\"]')"
   ]
  },
  {
   "cell_type": "code",
   "execution_count": null,
   "metadata": {},
   "outputs": [],
   "source": [
    "rows = tree.xpath(\"//table\")[0].xpath(\".//tr[not(td/b/text())]\")\n",
    "rows[0].xpath(\"./td\") # wszystkie komórki pierwszego wiersza"
   ]
  },
  {
   "cell_type": "code",
   "execution_count": null,
   "metadata": {},
   "outputs": [],
   "source": [
    "# rozwinięcie listy i przypisanie elementów do zmiennych (\"list unpacking\")\n",
    "#  jeśli będzie ich na liście inna liczba niż dostarczyliśmy zmiennych po lewej stronie, poleci ValueError\n",
    "off_name, abbr, comm_name = rows[0].xpath(\"./td\")"
   ]
  },
  {
   "cell_type": "code",
   "execution_count": null,
   "metadata": {},
   "outputs": [],
   "source": [
    "# rodzice, bedący linkiem (a, anchor), węzłów wyboldowanych\n",
    "tree.xpath(\"//b/parent::a\") "
   ]
  },
  {
   "cell_type": "code",
   "execution_count": null,
   "metadata": {},
   "outputs": [],
   "source": [
    "# powyższe jest mniej więcej tożsame z \"wszytkie linki takie, że ich dzieckiem jest pogrubienie\":\n",
    "tree.xpath(\"//b[a]\")"
   ]
  },
  {
   "cell_type": "code",
   "execution_count": null,
   "metadata": {},
   "outputs": [],
   "source": [
    "# przykład na węzły tekstowe\n",
    "simple_tree = html.fromstring('<span>krótki <b>ważny</b> tekst</span>')\n",
    "simple_tree.getchildren()  # [<węzeł b>]"
   ]
  },
  {
   "cell_type": "code",
   "execution_count": null,
   "metadata": {},
   "outputs": [],
   "source": [
    "simple_tree.xpath('//text()')  # ['krótki ', 'ważny', ' tekst']"
   ]
  },
  {
   "cell_type": "code",
   "execution_count": null,
   "metadata": {},
   "outputs": [],
   "source": [
    "simple_tree.xpath('//b/text()')  # ['ważny']"
   ]
  },
  {
   "cell_type": "code",
   "execution_count": null,
   "metadata": {},
   "outputs": [],
   "source": [
    "# \"poprzedni brat, będący węzłem tekstowym, węzła b\"\n",
    "simple_tree.xpath('//b/preceding-sibling::text()')  # ['krótki ']"
   ]
  },
  {
   "cell_type": "code",
   "execution_count": null,
   "metadata": {},
   "outputs": [],
   "source": [
    "# \"kolejny brat, będący węzłem tekstowym, węzła b\"\n",
    "simple_tree.xpath('//b/following-sibling::text()')  # [' tekst']"
   ]
  },
  {
   "cell_type": "code",
   "execution_count": null,
   "metadata": {},
   "outputs": [],
   "source": [
    "# policzono instytuty (zgodnie z zadaniem)\n",
    "len(tree.xpath(\"//table\")[0].xpath('.//tr[not(td/@align=\"center\")]'))"
   ]
  }
 ],
 "metadata": {
  "kernelspec": {
   "display_name": "Python 3",
   "language": "python",
   "name": "python3"
  },
  "language_info": {
   "codemirror_mode": {
    "name": "ipython",
    "version": 3
   },
   "file_extension": ".py",
   "mimetype": "text/x-python",
   "name": "python",
   "nbconvert_exporter": "python",
   "pygments_lexer": "ipython3",
   "version": "3.5.2"
  }
 },
 "nbformat": 4,
 "nbformat_minor": 2
}
