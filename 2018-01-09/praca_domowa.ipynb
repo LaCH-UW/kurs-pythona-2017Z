{
 "cells": [
  {
   "cell_type": "markdown",
   "metadata": {},
   "source": [
    "Napisz w komórkach polecenia (funkcje) wykonujące poniższe polecenia.\n",
    "\n",
    "Następnie zapisz notatnik, zacommituj i wypushuj!"
   ]
  },
  {
   "cell_type": "markdown",
   "metadata": {},
   "source": [
    "(0) \"Obejrzyj\" strony: https://en.wikipedia.org/wiki/Landlocked_country#List_of_landlocked_countries_and_territories i https://en.wikipedia.org/wiki/Navies_of_landlocked_countries\n",
    "\n",
    "Na potrzeby ćwiczenia przyjmijmy, że każdy kraj bez dostępu do morza mający flotę rozpoczyna własny podpunkt listy (`<li>`) na stronie \"Navies of landlocked countries\", i każdy kraj występujące na obu stronach jest linkiem (`<a>`) z atrybutem `title=\"nazwa kraju\"`."
   ]
  },
  {
   "cell_type": "markdown",
   "metadata": {},
   "source": [
    "(1) Ustal, jaki procent mieszkańców krajów bez dostępu do morza mieszka w kraju mającym flotę.\n",
    "\n",
    "Hipotetyczny przykład: załóżmy, że jedyne kraje w tabelce to Burundi (8,988,091 ludności) i Afghanistan (33,369,945). Burundi ma flotę, Afganistan nie, zatem odpowiedź to 100% * 8,988,091 / (8,988,091 + 33,369,945) = 21.219328960389003% (zaokrąglenie dowolne)."
   ]
  },
  {
   "cell_type": "code",
   "execution_count": null,
   "metadata": {},
   "outputs": [],
   "source": []
  }
 ],
 "metadata": {
  "kernelspec": {
   "display_name": "Python 3",
   "language": "python",
   "name": "python3"
  },
  "language_info": {
   "codemirror_mode": {
    "name": "ipython",
    "version": 3
   },
   "file_extension": ".py",
   "mimetype": "text/x-python",
   "name": "python",
   "nbconvert_exporter": "python",
   "pygments_lexer": "ipython3",
   "version": "3.5.2"
  }
 },
 "nbformat": 4,
 "nbformat_minor": 2
}
