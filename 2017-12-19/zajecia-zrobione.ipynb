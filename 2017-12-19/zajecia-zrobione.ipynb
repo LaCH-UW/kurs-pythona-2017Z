{
 "cells": [
  {
   "cell_type": "markdown",
   "metadata": {},
   "source": [
    "## Ćwiczenie 1: Wczytaj dane o kółkach rolniczych na zmienną `kolka`\n",
    "z pliku `../dane/kolka_rolnicze.json`; użyj biblioteki `json`"
   ]
  },
  {
   "cell_type": "code",
   "execution_count": 1,
   "metadata": {},
   "outputs": [],
   "source": [
    "import json\n",
    "\n",
    "json_data = []\n",
    "with open('../dane/kolka_rolnicze.json', 'r', encoding='utf-8') as fp:\n",
    "    for line in fp:\n",
    "        json_data.append(json.loads(line))"
   ]
  },
  {
   "cell_type": "markdown",
   "metadata": {},
   "source": [
    "## Ćwiczenie 2: Znajdź klucz zawierający datę rejestracji kółka"
   ]
  },
  {
   "cell_type": "code",
   "execution_count": 2,
   "metadata": {},
   "outputs": [
    {
     "name": "stdout",
     "output_type": "stream",
     "text": [
      "krs_podmioty.data_rejestracji\n",
      "krs_podmioty.data_dokonania_wpisu\n",
      "krs_podmioty.data_sprawdzenia\n"
     ]
    }
   ],
   "source": [
    "for k in json_data[0]['data'].keys():\n",
    "    if 'data' in k:\n",
    "        print(k)"
   ]
  },
  {
   "cell_type": "markdown",
   "metadata": {},
   "source": [
    "## Ćwiczenie 3: Znajdź kod pocztowy najstarszego Kółka Rolniczego w KRS"
   ]
  },
  {
   "cell_type": "code",
   "execution_count": 3,
   "metadata": {},
   "outputs": [
    {
     "name": "stdout",
     "output_type": "stream",
     "text": [
      "krs_podmioty.kod_pocztowy_id\n",
      "krs_podmioty.adres_kod_pocztowy\n",
      "91-224 2001-02-09\n",
      "89-412 2001-02-13\n",
      "86-010 2001-02-13\n",
      "88-140 2001-02-13\n",
      "89-412 2001-02-13\n",
      "89-415 2001-02-13\n",
      "89-480 2001-02-15\n",
      "37-110 2001-02-15\n",
      "88-407 2001-02-16\n",
      "89-422 2001-02-19\n"
     ]
    }
   ],
   "source": [
    "for k in json_data[0]['data'].keys():\n",
    "    if 'kod' in k:\n",
    "        print(k)\n",
    "\n",
    "for k in list(sorted(json_data, key=lambda x: x['data']['krs_podmioty.data_rejestracji']))[:10]:\n",
    "    print(k['data']['krs_podmioty.adres_kod_pocztowy'], k['data']['krs_podmioty.data_rejestracji'])"
   ]
  },
  {
   "cell_type": "markdown",
   "metadata": {},
   "source": [
    "## Ćwiczenie 4: Policz, ile jest węzłow `milestone`\n",
    "w pliku na stronie http://www.perseus.tufts.edu/hopper/xmlchunk?doc=Perseus%3Atext%3A1999.01.0133%3Abook%3D1%3Acard%3D1\n"
   ]
  },
  {
   "cell_type": "code",
   "execution_count": 4,
   "metadata": {},
   "outputs": [
    {
     "data": {
      "text/plain": [
       "4"
      ]
     },
     "execution_count": 4,
     "metadata": {},
     "output_type": "execute_result"
    }
   ],
   "source": [
    "import requests\n",
    "from lxml import etree\n",
    "\n",
    "response = requests.get('http://www.perseus.tufts.edu/hopper/xmlchunk?doc=Perseus%3Atext%3A1999.01.0133%3Abook%3D1%3Acard%3D1')\n",
    "root = etree.fromstring(response.content)\n",
    "\n",
    "len(root.xpath('.//milestone'))"
   ]
  }
 ],
 "metadata": {
  "kernelspec": {
   "display_name": "Python 3",
   "language": "python",
   "name": "python3"
  },
  "language_info": {
   "codemirror_mode": {
    "name": "ipython",
    "version": 3
   },
   "file_extension": ".py",
   "mimetype": "text/x-python",
   "name": "python",
   "nbconvert_exporter": "python",
   "pygments_lexer": "ipython3",
   "version": "3.5.2"
  }
 },
 "nbformat": 4,
 "nbformat_minor": 2
}
