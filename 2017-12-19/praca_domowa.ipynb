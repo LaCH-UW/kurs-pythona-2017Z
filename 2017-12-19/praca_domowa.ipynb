{
 "cells": [
  {
   "cell_type": "markdown",
   "metadata": {},
   "source": [
    "Napisz w komórkach polecenia (funkcje) wykonujące poniższe polecenia.\n",
    "\n",
    "Następnie zapisz notatnik, zacommituj i wypushuj!"
   ]
  },
  {
   "cell_type": "markdown",
   "metadata": {},
   "source": [
    "(1) Na podstawie lektury https://mojepanstwo.pl/api/krs oblicz, ile SPZOZ-ów pobiera dotacje UE (ma identyfikator beneficjenta inny niż 0)."
   ]
  },
  {
   "cell_type": "code",
   "execution_count": null,
   "metadata": {},
   "outputs": [],
   "source": []
  }
 ],
 "metadata": {
  "kernelspec": {
   "display_name": "Python 3",
   "language": "python",
   "name": "python3"
  },
  "language_info": {
   "codemirror_mode": {
    "name": "ipython",
    "version": 3
   },
   "file_extension": ".py",
   "mimetype": "text/x-python",
   "name": "python",
   "nbconvert_exporter": "python",
   "pygments_lexer": "ipython3",
   "version": "3.5.2"
  }
 },
 "nbformat": 4,
 "nbformat_minor": 2
}
