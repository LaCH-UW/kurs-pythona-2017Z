{
 "cells": [
  {
   "cell_type": "markdown",
   "metadata": {
    "slideshow": {
     "slide_type": "slide"
    }
   },
   "source": [
    "# Python w badaniach humanistycznych\n",
    "## Zajęcia 4"
   ]
  },
  {
   "cell_type": "markdown",
   "metadata": {
    "slideshow": {
     "slide_type": "slide"
    }
   },
   "source": [
    "Zaczniemy jak poprzednio od zaciągnięcia materiałów z GitHuba."
   ]
  },
  {
   "cell_type": "markdown",
   "metadata": {
    "slideshow": {
     "slide_type": "fragment"
    }
   },
   "source": [
    "(0a) Linuksowcy/Macowcy przechodzą terminalem do katalogu, w którym sklonowaliśmy materiały do zajęć (repozytorium o nazwie `kurs-pythona-2017Z-<login-githubowy>`) - `cd ~/tutaj/mam/ten/katalog/kurs-pythona-2017Z-piotrkasprzyk`.\n",
    "\n",
    "(0b) Windowsowcy uruchamiają Git Bash, a potem przechodzą tamże - `cd /c/Users/ja/Pulpit/kurs-pythona-2017Z-piotrkasprzyk`.\n",
    "\n",
    "(1) `git fetch upstream`\n",
    "\n",
    "(2) `git checkout master`\n",
    "\n",
    "(3) `git stash`\n",
    "\n",
    "(4) `git merge upstream/master`\n",
    "\n",
    "(5) `git stash pop`"
   ]
  },
  {
   "cell_type": "markdown",
   "metadata": {
    "slideshow": {
     "slide_type": "slide"
    }
   },
   "source": [
    "Powinniśmy wzbogacić się o pliki `2017-12-19/zajecia.ipynb` (ćwiczenia na zajęciach), `2017-12-19/slajdy.ipynb` (materiały z wykładu) i `2017-12-19/praca_domowa.ipynb`."
   ]
  },
  {
   "cell_type": "markdown",
   "metadata": {
    "slideshow": {
     "slide_type": "slide"
    }
   },
   "source": [
    "## Korzystanie z zasobów internetowych - ciąg dalszy"
   ]
  },
  {
   "cell_type": "markdown",
   "metadata": {
    "slideshow": {
     "slide_type": "slide"
    }
   },
   "source": [
    "## Ćwiczenie poprzednie: Znajdź identyfikator formy prawnej \"kółko rolnicze\" w bazie mojepanstwo.pl"
   ]
  },
  {
   "cell_type": "code",
   "execution_count": 1,
   "metadata": {
    "slideshow": {
     "slide_type": "subslide"
    }
   },
   "outputs": [
    {
     "name": "stdout",
     "output_type": "stream",
     "text": [
      "KÓŁKO ROLNICZE 5\n"
     ]
    }
   ],
   "source": [
    "import requests\n",
    "\n",
    "r = requests.get('https://api-v3.mojepanstwo.pl/dane/krs_formy_prawne.json')\n",
    "json_data = r.json()\n",
    "#print(json_data.keys())\n",
    "first_object = json_data['Dataobject'][0]\n",
    "#print(first_object.keys())\n",
    "#print(first_object['data'])\n",
    "\n",
    "#for obj in json_data['Dataobject']:\n",
    "#    print(obj['data']['krs_formy_prawne.nazwa'], obj['data']['krs_formy_prawne.id'])\n",
    "\n",
    "for obj in json_data['Dataobject']:\n",
    "    if 'KÓŁKO ROLNICZE' in obj['data']['krs_formy_prawne.nazwa'].upper():\n",
    "        print(obj['data']['krs_formy_prawne.nazwa'], obj['data']['krs_formy_prawne.id'])"
   ]
  },
  {
   "cell_type": "markdown",
   "metadata": {
    "slideshow": {
     "slide_type": "slide"
    }
   },
   "source": [
    "### Spróbujmy znaleźć najstarsze Kółko Rolnicze w KRS (wg. daty rejestracji u Mojego Państwa)"
   ]
  },
  {
   "cell_type": "code",
   "execution_count": 2,
   "metadata": {
    "slideshow": {
     "slide_type": "subslide"
    }
   },
   "outputs": [
    {
     "name": "stdout",
     "output_type": "stream",
     "text": [
      "50\n",
      "3753\n"
     ]
    }
   ],
   "source": [
    "import requests\n",
    "\n",
    "id_kolka_rolniczego = 5\n",
    "\n",
    "r = requests.get('https://api-v3.mojepanstwo.pl/dane/krs_podmioty.json?conditions[krs_podmioty.forma_prawna_id]={}'.format(id_kolka_rolniczego))\n",
    "json_data = r.json()\n",
    "print(len(json_data['Dataobject']))\n",
    "print(json_data['Count'])"
   ]
  },
  {
   "cell_type": "markdown",
   "metadata": {
    "slideshow": {
     "slide_type": "fragment"
    }
   },
   "source": [
    "### Jak widać, MojePaństwo zwraca wyniki w paczkach po 50 sztuk.\n",
    "\n",
    "Krótka lektura https://mojepanstwo.pl/api/krs pozwoli nam zmodyfikować request tak, aby ściagał dane w paczkach po 500 sztuk (tyle się da maksymalnie)."
   ]
  },
  {
   "cell_type": "code",
   "execution_count": 3,
   "metadata": {
    "slideshow": {
     "slide_type": "slide"
    }
   },
   "outputs": [
    {
     "name": "stdout",
     "output_type": "stream",
     "text": [
      "500\n",
      "3753\n",
      "dict_keys(['last', 'next', 'self'])\n"
     ]
    }
   ],
   "source": [
    "import requests\n",
    "\n",
    "id_kolka_rolniczego = 5\n",
    "\n",
    "r = requests.get('https://api-v3.mojepanstwo.pl/dane/krs_podmioty.json?conditions[krs_podmioty.forma_prawna_id]={}&limit=500'.format(id_kolka_rolniczego))\n",
    "json_data = r.json()\n",
    "print(len(json_data['Dataobject']))\n",
    "print(json_data['Count'])\n",
    "print(json_data['Links'].keys())  # nawigacja: poprzednia strona, kolejna strona etc."
   ]
  },
  {
   "cell_type": "markdown",
   "metadata": {
    "slideshow": {
     "slide_type": "slide"
    }
   },
   "source": [
    "### Jak zatem ściągnąć wszystkie dane (i nie zadławić strony MojePaństwo)?\n",
    "1. Pętla\n",
    "2. Funkcja `sleep` z biblioteki `time`\n",
    "3. Zapis do pliku (żeby nie ściągać za każdym razem jak chcemy nad nimi pracować)"
   ]
  },
  {
   "cell_type": "code",
   "execution_count": 4,
   "metadata": {
    "slideshow": {
     "slide_type": "subslide"
    }
   },
   "outputs": [
    {
     "data": {
      "text/plain": [
       "2080"
      ]
     },
     "execution_count": 4,
     "metadata": {},
     "output_type": "execute_result"
    }
   ],
   "source": [
    "# jeśli nie wiemy ile iteracji pętli nas czeka (ale wiemy kiedy chcemy skończyć), pętla while jest dobrym rozwiązaniem\n",
    "\n",
    "import random\n",
    "\n",
    "liczba_iteracji = random.randint(50, 100)  # losowa liczba całkowita z przedziału <50, 100)\n",
    "\n",
    "suma = 0\n",
    "while liczba_iteracji > 0:\n",
    "    suma += liczba_iteracji\n",
    "    liczba_iteracji -= 1\n",
    "\n",
    "suma"
   ]
  },
  {
   "cell_type": "code",
   "execution_count": 5,
   "metadata": {
    "slideshow": {
     "slide_type": "subslide"
    }
   },
   "outputs": [
    {
     "name": "stdout",
     "output_type": "stream",
     "text": [
      "zaczynamy\n",
      "minęła sekunda\n",
      "minęło kolejne pół sekundy\n"
     ]
    }
   ],
   "source": [
    "# funkcja sleep w module time zatrzymuje bieg programu na ustaloną liczbę sekund\n",
    "\n",
    "import time\n",
    "\n",
    "print('zaczynamy')\n",
    "time.sleep(1)\n",
    "print('minęła sekunda')\n",
    "time.sleep(0.5)\n",
    "print('minęło kolejne pół sekundy')"
   ]
  },
  {
   "cell_type": "code",
   "execution_count": 6,
   "metadata": {
    "slideshow": {
     "slide_type": "subslide"
    }
   },
   "outputs": [
    {
     "name": "stdout",
     "output_type": "stream",
     "text": [
      "{'liczba': 42, 'lista': ['elt1', 2, 'elt3']}\n",
      "'{\"liczba\": 42, \"lista\": [\"elt1\", 2, \"elt3\"]}'\n",
      "{'liczba': 42, 'lista': ['elt1', 2, 'elt3']}\n"
     ]
    }
   ],
   "source": [
    "# moduł json służy do konwersji json <-> pythonowe struktury\n",
    "\n",
    "import json\n",
    "\n",
    "s = {'lista': ['elt1', 2, 'elt3'], 'liczba': 42}\n",
    "print(repr(s))  # funkcja repr() formatuje trochę inaczej, ułatwiając rozpoznawanie typów\n",
    "json_s = json.dumps(s)\n",
    "print(repr(json_s))\n",
    "parsed_s = json.loads(json_s)\n",
    "print(repr(parsed_s))"
   ]
  },
  {
   "cell_type": "code",
   "execution_count": 7,
   "metadata": {
    "slideshow": {
     "slide_type": "subslide"
    }
   },
   "outputs": [
    {
     "name": "stdout",
     "output_type": "stream",
     "text": [
      "1\n",
      "1\n",
      "'2'\n",
      "2\n"
     ]
    }
   ],
   "source": [
    "# na marginesie:\n",
    "print('1')\n",
    "print(1)\n",
    "print(repr('2'))\n",
    "print(repr(2))"
   ]
  },
  {
   "cell_type": "code",
   "execution_count": 8,
   "metadata": {
    "slideshow": {
     "slide_type": "slide"
    }
   },
   "outputs": [],
   "source": [
    "import time\n",
    "import json\n",
    "import requests\n",
    "\n",
    "lista_kolek_rolniczych_po_500 = 'https://api-v3.mojepanstwo.pl/dane/krs_podmioty.json?conditions[krs_podmioty.forma_prawna_id]={}&limit=500'.format(id_kolka_rolniczego)\n",
    "\n",
    "# print(dane[0].keys())\n",
    "def dump_all_pages(first_page_link, fname):\n",
    "    # zerujemy plik\n",
    "    open(fname, 'w', encoding='utf-8').close()\n",
    "    current_link = first_page_link\n",
    "    while current_link is not None:\n",
    "        r = requests.get(current_link)\n",
    "        print(\"getting: \", current_link)\n",
    "        json_data = r.json()\n",
    "        with open(fname, 'a', encoding='utf-8') as fp:\n",
    "            for obj in json_data['Dataobject']:\n",
    "                fp.write(json.dumps(obj) + '\\n')\n",
    "        current_link = json_data['Links']['next'] if 'next' in json_data['Links'] else None\n",
    "        time.sleep(1)\n",
    "        \n",
    "# dump_all_pages(lista_kolek_rolniczych_po_500, '../dane/kolka_rolnicze.json')"
   ]
  },
  {
   "cell_type": "markdown",
   "metadata": {
    "slideshow": {
     "slide_type": "slide"
    }
   },
   "source": [
    "### Żeby nie krzywdzić MojegoPaństwa na zajęciach, plik wynikowy znajduje się w materiałach\n",
    "`../dane/kolka_rolnicze.json`"
   ]
  },
  {
   "cell_type": "markdown",
   "metadata": {
    "slideshow": {
     "slide_type": "slide"
    }
   },
   "source": [
    "## Ćwiczenie 1: Wczytaj dane o kółkach rolniczych na zmienną `kolka`\n",
    "z pliku `../dane/kolka_rolnicze.json`; użyj biblioteki `json`"
   ]
  },
  {
   "cell_type": "markdown",
   "metadata": {
    "slideshow": {
     "slide_type": "slide"
    }
   },
   "source": [
    "## Ćwiczenie 2: Znajdź klucz zawierający datę rejestracji kółka"
   ]
  },
  {
   "cell_type": "markdown",
   "metadata": {
    "slideshow": {
     "slide_type": "slide"
    }
   },
   "source": [
    "### Weźmy przykładową datę rejestacji: `'2017-12-12'`\n",
    "\n",
    "Sortowanie jest w tym przypadku łatwe - data jest w formacie ISO 8601, w której porządek leksykograficzny odpowiada porządkowi chronologicznemu.\n",
    "\n",
    "Potrzebujemy teraz tylko sortowania -- służy to tego funkcja `sorted`, która zwraca elementy w posorowanej kolejności"
   ]
  },
  {
   "cell_type": "code",
   "execution_count": 9,
   "metadata": {
    "slideshow": {
     "slide_type": "subslide"
    }
   },
   "outputs": [
    {
     "name": "stdout",
     "output_type": "stream",
     "text": [
      "1\n",
      "2\n",
      "3\n",
      "4\n",
      "5\n"
     ]
    }
   ],
   "source": [
    "# prosty przypadek\n",
    "for i in sorted([5, 2, 1, 3, 4]):\n",
    "    print(i)"
   ]
  },
  {
   "cell_type": "code",
   "execution_count": 10,
   "metadata": {
    "slideshow": {
     "slide_type": "subslide"
    }
   },
   "outputs": [
    {
     "name": "stdout",
     "output_type": "stream",
     "text": [
      "z\n",
      "o\n",
      "s\n",
      "i\n",
      "a\n"
     ]
    }
   ],
   "source": [
    "# nieprosty przypadek -- słowniki nie mają porządku, więc musimy podać klucz, po którym sortujemy\n",
    "l = {'a': 5, 'b': 'a'}, {'a': 2, 'b': 'o'}, {'a': 1, 'b': 'z'}, {'a': 3, 'b': 's'}, {'a': 4, 'b': 'i'}\n",
    "\n",
    "for i in sorted(l, key=lambda x: x['a']):\n",
    "    print(i['b'])"
   ]
  },
  {
   "cell_type": "markdown",
   "metadata": {
    "slideshow": {
     "slide_type": "slide"
    }
   },
   "source": [
    "## Ćwiczenie 3: Znajdź kod pocztowy najstarszego Kółka Rolniczego w KRS"
   ]
  },
  {
   "cell_type": "markdown",
   "metadata": {
    "slideshow": {
     "slide_type": "slide"
    }
   },
   "source": [
    "## Korzystanie z zasobów internetowych - nie-JSON\n",
    "\n",
    "Najczęstszymi danymi, na które się natkniemy, będą formaty XML (ustrukturyzowane dane) i HTML (strony internetowe, niezupełnie niepodobne do XML).\n",
    "\n",
    "Dobrą biblioteką do parsowania jednego i drugiego jest `lxml`"
   ]
  },
  {
   "cell_type": "code",
   "execution_count": 11,
   "metadata": {
    "slideshow": {
     "slide_type": "slide"
    }
   },
   "outputs": [
    {
     "name": "stdout",
     "output_type": "stream",
     "text": [
      "<Element TEI.2 at 0x7ff059e38688>\n",
      "TEI.2\n",
      "['text']\n",
      "['body']\n",
      "['div1']\n",
      "['milestone', 'l', 'l', 'l', 'l', 'l', 'l', 'l', 'l', 'l', 'l', 'l', 'l', 'l', 'l', 'l', 'l', 'l', 'l', 'l', 'l', 'l', 'l', 'l', 'l', 'l', 'l', 'l', 'l', 'l', 'l', 'l', 'l']\n",
      "οὐλομένην, ἣ μυρί᾽ Ἀχαιοῖς ἄλγε᾽ ἔθηκε,\n"
     ]
    }
   ],
   "source": [
    "import requests\n",
    "from lxml import etree\n",
    "\n",
    "response = requests.get('http://www.perseus.tufts.edu/hopper/xmlchunk?doc=Perseus%3Atext%3A1999.01.0133%3Abook%3D1%3Acard%3D1')\n",
    "root = etree.fromstring(response.content)\n",
    "print(root)\n",
    "print(root.tag)\n",
    "print([c.tag for c in root])\n",
    "print([c.tag for c in root[0]])\n",
    "print([c.tag for c in root[0][0]])\n",
    "print([c.tag for c in root[0][0][0]])\n",
    "print(root[0][0][0][2].text)"
   ]
  },
  {
   "cell_type": "markdown",
   "metadata": {
    "slideshow": {
     "slide_type": "slide"
    }
   },
   "source": [
    "### Parsowanie HTMLa:"
   ]
  },
  {
   "cell_type": "code",
   "execution_count": 12,
   "metadata": {
    "slideshow": {
     "slide_type": "fragment"
    }
   },
   "outputs": [
    {
     "data": {
      "text/plain": [
       "'html'"
      ]
     },
     "execution_count": 12,
     "metadata": {},
     "output_type": "execute_result"
    }
   ],
   "source": [
    "import requests\n",
    "from lxml import html\n",
    "response = requests.get('https://en.wikipedia.org/wiki/Douglas_Adams')\n",
    "html_root = html.fromstring(response.content)\n",
    "\n",
    "# dalej jw\n",
    "html_root.tag"
   ]
  },
  {
   "cell_type": "markdown",
   "metadata": {
    "slideshow": {
     "slide_type": "slide"
    }
   },
   "source": [
    "### Klika wskazówek:\n",
    "1. XML warto otworzyć w przeglądarce -- dostaniemy znacznie lepszy ogląd\n",
    "2. HTML w zasadzie trzeba otworzyć w przeglądarce; kod (to, co widzi Python) możemy zobaczyć za pomocą \"narzędzi developerskich\" (F12 w większości przeglądarek)\n",
    "3. Wygodnym sposobem chodzenia po XML jest XPath ( https://en.wikipedia.org/wiki/XPath ), np. `root.xpath('.//l')`"
   ]
  },
  {
   "cell_type": "code",
   "execution_count": 13,
   "metadata": {
    "slideshow": {
     "slide_type": "slide"
    }
   },
   "outputs": [
    {
     "name": "stdout",
     "output_type": "stream",
     "text": [
      "32\n",
      "65\n",
      "\n",
      "μῆνιν ἄειδε θεὰ Πηληϊάδεω Ἀχιλῆος\n",
      "οὐλομένην, ἣ μυρί᾽ Ἀχαιοῖς ἄλγε᾽ ἔθηκε,\n",
      "πολλὰς δ᾽ ἰφθίμους ψυχὰς ...\n"
     ]
    }
   ],
   "source": [
    "import requests\n",
    "from lxml import etree\n",
    "\n",
    "response = requests.get('http://www.perseus.tufts.edu/hopper/xmlchunk?doc=Perseus%3Atext%3A1999.01.0133%3Abook%3D1%3Acard%3D1')\n",
    "root = etree.fromstring(response.content)\n",
    "\n",
    "print(len([l for l in root.xpath('.//l')]))  # wszystkie węzły 'l'\n",
    "print(len([t for t in root.xpath('.//text()')]))  # wszystkie węzły tekstowe\n",
    "\n",
    "txt = ''.join(t for t in root.xpath('.//text()'))  # zgodnie z powyższym -- cały tekst we wczytanym xmlu\n",
    "print(txt[:100] + '...')"
   ]
  },
  {
   "cell_type": "markdown",
   "metadata": {
    "slideshow": {
     "slide_type": "slide"
    }
   },
   "source": [
    "## Ćwiczenie 4: Policz, ile jest węzłow `milestone`\n",
    "w pliku na stronie http://www.perseus.tufts.edu/hopper/xmlchunk?doc=Perseus%3Atext%3A1999.01.0133%3Abook%3D1%3Acard%3D1"
   ]
  },
  {
   "cell_type": "markdown",
   "metadata": {
    "slideshow": {
     "slide_type": "slide"
    }
   },
   "source": [
    "## Następne zajęcia: 9 stycznia 2018, 16:30\n",
    "### Praca domowa znajduje się w pliku `2017-12-19/praca_domowa.ipynb`\n",
    "Proszę o wrzucenie jej do swojego repozytorium do 6 stycznia 2018 (sobota), do godziny 23:59."
   ]
  }
 ],
 "metadata": {
  "celltoolbar": "Slideshow",
  "kernelspec": {
   "display_name": "Python 3",
   "language": "python",
   "name": "python3"
  },
  "language_info": {
   "codemirror_mode": {
    "name": "ipython",
    "version": 3
   },
   "file_extension": ".py",
   "mimetype": "text/x-python",
   "name": "python",
   "nbconvert_exporter": "python",
   "pygments_lexer": "ipython3",
   "version": "3.5.2"
  }
 },
 "nbformat": 4,
 "nbformat_minor": 2
}
