{
 "cells": [
  {
   "cell_type": "markdown",
   "metadata": {},
   "source": [
    "## Ćwiczenie 1: Zapiszmy na dysku drugi tom Lalki\n",
    "(najlepiej koło pierwszego, na ścieżce `../dane/lalka-tom-drugi.txt`)"
   ]
  },
  {
   "cell_type": "code",
   "execution_count": null,
   "metadata": {},
   "outputs": [],
   "source": []
  },
  {
   "cell_type": "markdown",
   "metadata": {},
   "source": [
    "## Ćwiczenie 2: Policzmy słowa w drugim tomie Lalki\n",
    "(pamiętajmy o sposobach czyszczenia tekstu z poprzednich zajęć)"
   ]
  },
  {
   "cell_type": "code",
   "execution_count": 1,
   "metadata": {},
   "outputs": [],
   "source": [
    "import unicodedata\n",
    "\n",
    "def get_word_map(tekst):\n",
    "    struct = {}\n",
    "    for word in ''.join(c for c in tekst if not unicodedata.category(c).startswith('P')).upper().split():\n",
    "        if word not in struct:\n",
    "            struct[word] = 1\n",
    "        else:\n",
    "            struct[word] += 1\n",
    "    return struct\n",
    "\n"
   ]
  },
  {
   "cell_type": "markdown",
   "metadata": {},
   "source": [
    "## Ćwiczenie 3: Policzmy unikalne słowa w drugim tomie Lalki"
   ]
  },
  {
   "cell_type": "code",
   "execution_count": null,
   "metadata": {},
   "outputs": [],
   "source": []
  },
  {
   "cell_type": "markdown",
   "metadata": {},
   "source": [
    "## Ćwiczenie 4: Zobaczmy, czy jakieś słowa w drugim tomie Lalki są anagramami\n"
   ]
  },
  {
   "cell_type": "code",
   "execution_count": null,
   "metadata": {},
   "outputs": [],
   "source": []
  },
  {
   "cell_type": "markdown",
   "metadata": {},
   "source": [
    "## Ćwiczenie 5: Policzmy zdania w drugim tomie Lalki\n",
    "(naiwnie, \"od kropki/znaku zapytania/wykrzyknika do kropki/znaku zapytania/wykrzyknika\")"
   ]
  },
  {
   "cell_type": "code",
   "execution_count": null,
   "metadata": {},
   "outputs": [],
   "source": []
  },
  {
   "cell_type": "markdown",
   "metadata": {},
   "source": [
    "## Ćwiczenie 6: Wykonajmy ćwiczenia 2, 3 i 5 za pomoca NLTK. Porównajmy różnice."
   ]
  },
  {
   "cell_type": "code",
   "execution_count": null,
   "metadata": {},
   "outputs": [],
   "source": []
  },
  {
   "cell_type": "markdown",
   "metadata": {},
   "source": [
    "## Ćwiczenie 7: Wyświetl swój avatar GitHubowy.\n",
    "( dla zainteresowanych: avatar == \"zdjęcie profilowe\", można zmienić w https://github.com/settings/profile )"
   ]
  },
  {
   "cell_type": "code",
   "execution_count": null,
   "metadata": {},
   "outputs": [],
   "source": []
  },
  {
   "cell_type": "markdown",
   "metadata": {},
   "source": [
    "## Ćwiczenie 8: Znajdź identyfikator formy prawnej \"kółko rolnicze\" w bazie mojepanstwo.pl\n",
    "( pomocny link: https://api-v3.mojepanstwo.pl/dane/krs_formy_prawne.json )"
   ]
  },
  {
   "cell_type": "code",
   "execution_count": null,
   "metadata": {},
   "outputs": [],
   "source": []
  },
  {
   "cell_type": "markdown",
   "metadata": {},
   "source": [
    "## Ćwiczenie 9: Ustal, ile jest kółek rolniczych w bazie mojepanstwo.pl\n",
    "( pomocny link: https://api-v3.mojepanstwo.pl/dane/krs_podmioty.json?conditions[krs_podmioty.forma_prawna_id]={id-formy-prawnej} )"
   ]
  },
  {
   "cell_type": "code",
   "execution_count": null,
   "metadata": {},
   "outputs": [],
   "source": []
  }
 ],
 "metadata": {
  "kernelspec": {
   "display_name": "Python 3",
   "language": "python",
   "name": "python3"
  },
  "language_info": {
   "codemirror_mode": {
    "name": "ipython",
    "version": 3
   },
   "file_extension": ".py",
   "mimetype": "text/x-python",
   "name": "python",
   "nbconvert_exporter": "python",
   "pygments_lexer": "ipython3",
   "version": "3.5.2"
  }
 },
 "nbformat": 4,
 "nbformat_minor": 2
}
