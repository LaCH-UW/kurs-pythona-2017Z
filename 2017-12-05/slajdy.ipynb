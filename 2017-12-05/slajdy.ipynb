{
 "cells": [
  {
   "cell_type": "markdown",
   "metadata": {
    "slideshow": {
     "slide_type": "slide"
    }
   },
   "source": [
    "# Python w badaniach humanistycznych\n",
    "## Zajęcia 3"
   ]
  },
  {
   "cell_type": "markdown",
   "metadata": {
    "slideshow": {
     "slide_type": "slide"
    }
   },
   "source": [
    "Dziś trochę zwalniamy.\n",
    "\n",
    "Zaczniemy od zaciągnięcia materiałów z GitHuba, ale tym razem bez GUI."
   ]
  },
  {
   "cell_type": "markdown",
   "metadata": {
    "slideshow": {
     "slide_type": "slide"
    }
   },
   "source": [
    "Jeśli ktoś ma skonfigurowany `upstream` z poprzednich zajęć, pomija punkt (1).\n",
    "\n",
    "(0a) Linuksowcy/Macowcy przechodzą terminalem do katalogu, w którym sklonowaliśmy materiały do zajęć (repozytorium o nazwie `kurs-pythona-2017Z-<login-githubowy>`) - `cd ~/tutaj/mam/ten/katalog/kurs-pythona-2017Z-piotrkasprzyk`.\n",
    "\n",
    "(0b) Windowsowcy uruchamiają Git Bash, a potem przechodzą tamże - `cd /c/Users/ja/Pulpit/kurs-pythona-2017Z-piotrkasprzyk`.\n",
    "\n",
    "(1) `git remote add upstream https://github.com/LaCH-UW/kurs-pythona-2017Z.git`\n",
    "\n",
    "(2) `git fetch upstream`\n",
    "\n",
    "(3) `git checkout master`\n",
    "\n",
    "(4) `git stash`\n",
    "\n",
    "(5) `git merge upstream/master`\n",
    "\n",
    "(6) `git stash pop`"
   ]
  },
  {
   "cell_type": "markdown",
   "metadata": {
    "slideshow": {
     "slide_type": "slide"
    }
   },
   "source": [
    "Powinniśmy wzbogacić się o pliki `2017-12-05/zajecia.ipynb` (ćwiczenia na zajęciach) i `2017-12-05/slajdy.ipynb` (materiały z wykładu)."
   ]
  },
  {
   "cell_type": "markdown",
   "metadata": {
    "slideshow": {
     "slide_type": "slide"
    }
   },
   "source": [
    "## Korzystanie z zasobów internetowych - część I\n",
    "\n",
    "Polecenie get z moduły requests pozwala na wykonywanie requestu HTTP GET (i w efekcie zaciąganie plików udostępnionych jako \"strony internetowe\"."
   ]
  },
  {
   "cell_type": "code",
   "execution_count": 1,
   "metadata": {
    "slideshow": {
     "slide_type": "subslide"
    }
   },
   "outputs": [
    {
     "name": "stdout",
     "output_type": "stream",
     "text": [
      "200\n"
     ]
    },
    {
     "data": {
      "text/plain": [
       "'Bolesław Prus\\r\\n\\r\\nLalka\\r\\n\\r\\nISBN 978-83-288-2672-4\\r\\n\\r\\n\\r\\n\\r\\n\\r\\n\\r\\nTom II\\r\\n\\r\\n\\r\\n\\r\\nI. Pamiętnik starego subie'"
      ]
     },
     "execution_count": 1,
     "metadata": {},
     "output_type": "execute_result"
    }
   ],
   "source": [
    "import requests  # moduł requests nie jest wbudowany w instalację pythona, ale powinniśmy go dostać razem z jupyter notebook w ramach anacondy\n",
    "\n",
    "result = requests.get('https://wolnelektury.pl/media/book/txt/lalka-tom-drugi.txt')\n",
    "print(result.status_code)  # 200 oznacza sukces, 4** oznacza błędny request (nasza wina), 5** oznacza błąd serwera (często nie nasza wina)\n",
    "tekst = result.text\n",
    "\n",
    "tekst[:100]"
   ]
  },
  {
   "cell_type": "markdown",
   "metadata": {
    "slideshow": {
     "slide_type": "slide"
    }
   },
   "source": [
    "## Ćwiczenie 1: Zapiszmy na dysku drugi tom Lalki\n",
    "(najlepiej koło pierwszego, na ścieżce `../dane/lalka-tom-drugi.txt`)"
   ]
  },
  {
   "cell_type": "markdown",
   "metadata": {
    "slideshow": {
     "slide_type": "slide"
    }
   },
   "source": [
    "## Ćwiczenie 2: Policzmy słowa w drugim tomie Lalki\n",
    "(pamiętajmy o sposobach czyszczenia tekstu z poprzednich zajęć)"
   ]
  },
  {
   "cell_type": "code",
   "execution_count": 2,
   "metadata": {
    "slideshow": {
     "slide_type": "fragment"
    }
   },
   "outputs": [],
   "source": [
    "import unicodedata\n",
    "\n",
    "def get_word_map(tekst):\n",
    "    struct = {}\n",
    "    for word in ''.join(c for c in tekst if not unicodedata.category(c).startswith('P')).upper().split():\n",
    "        if word not in struct:\n",
    "            struct[word] = 1\n",
    "        else:\n",
    "            struct[word] += 1\n",
    "    return struct"
   ]
  },
  {
   "cell_type": "markdown",
   "metadata": {
    "slideshow": {
     "slide_type": "slide"
    }
   },
   "source": [
    "## Ćwiczenie 3: Policzmy unikalne słowa w drugim tomie Lalki"
   ]
  },
  {
   "cell_type": "markdown",
   "metadata": {
    "slideshow": {
     "slide_type": "slide"
    }
   },
   "source": [
    "## Ćwiczenie 4: Zobaczmy, czy jakieś słowa w drugim tomie Lalki są anagramami"
   ]
  },
  {
   "cell_type": "markdown",
   "metadata": {
    "slideshow": {
     "slide_type": "slide"
    }
   },
   "source": [
    "## Ćwiczenie 5: Policzmy zdania w drugim tomie Lalki\n",
    "(naiwnie, \"od kropki/znaku zapytania/wykrzyknika do kropki/znaku zapytania/wykrzyknika\")"
   ]
  },
  {
   "cell_type": "markdown",
   "metadata": {
    "slideshow": {
     "slide_type": "slide"
    }
   },
   "source": [
    "## Część \"jak korzystać z bibliotek\" - NLTK."
   ]
  },
  {
   "cell_type": "code",
   "execution_count": 3,
   "metadata": {
    "slideshow": {
     "slide_type": "slide"
    }
   },
   "outputs": [
    {
     "name": "stdout",
     "output_type": "stream",
     "text": [
      "[nltk_data] Downloading package punkt to /home/piotr/nltk_data...\n",
      "[nltk_data]   Package punkt is already up-to-date!\n"
     ]
    },
    {
     "data": {
      "text/plain": [
       "['Bolesław Prus\\r\\n\\r\\nLalka\\r\\n\\r\\nISBN 978-83-288-2672-4\\r\\n\\r\\n\\r\\n\\r\\n\\r\\n\\r\\nTom II\\r\\n\\r\\n\\r\\n\\r\\nI.',\n",
       " 'Pamiętnik starego subiekta\\r\\n\\r\\nSytuacja polityczna jest tak niepewna, że wcale by mnie nie zdziwiło, gdyby około grudnia wybuchła wojna.',\n",
       " 'Ludziom ciągle się zdaje, że wojna może być tylko na wiosnę; widać zapomnieli, że wojny: pruska i francuska, rozpoczynały się w lecie.',\n",
       " 'Nie rozumiem zaś, skąd wyrósł przesąd przeciw kampaniom zimowym?… W zimie stodoły są pełne, a droga jak mur; tymczasem na wiosnę u chłopa jest przednówek, a drogi jak ciasto; przejedzie bateria i możesz się w tym miejscu kąpać.',\n",
       " 'Lecz z drugiej strony — zimowe noce, które ciągną się po kilkanaście godzin, potrzeba ciepłej odzieży i mieszkań dla wojska, tyfus… Doprawdy, nieraz dziękuję Bogu, że mnie nie stworzył Moltkem; on musi kręcić głową, nieborak!…\\r\\n\\r\\nAustriacy, a raczej Węgrzy już na dobre wleźli do Bośni i Hercegowiny, gdzie ich bardzo niegościnnie przyjmują.',\n",
       " 'Znalazł się nawet jakiś Hadżi Loja, podobno znakomity partyzant, który im napędza dużo zgryzot.',\n",
       " 'Szkoda mi węgierskiej piechoty, ale też i dzisiejsi Węgrzy diabła warci.',\n",
       " 'Kiedy ich w 49 roku dusił szwarcgelber, krzyczeli: każdy naród ma prawo bronić swojej wolności!… A dziś co?… Sami pchają się do Bośni, gdzie ich nie wołano, a broniących się Bośniaków nazywają złodziejami i rozbójnikami.',\n",
       " 'Dalibóg coraz mniej rozumiem politykę!',\n",
       " 'I kto wie, czy Stach Wokulski nie ma racji, że przestał się nią zajmować (jeżeli przestał?…).']"
      ]
     },
     "execution_count": 3,
     "metadata": {},
     "output_type": "execute_result"
    }
   ],
   "source": [
    "import nltk  # sytuacja jak z reequests - powinnismy mieć nltk z anacondy\n",
    "nltk.download('punkt')  # przed pierwszym użyciem musimy ściągnąć paczkę z tokenizerami\n",
    "\n",
    "from nltk.tokenize import sent_tokenize, word_tokenize\n",
    "\n",
    "s = sent_tokenize(tekst, language='polish')\n",
    "s[:10]"
   ]
  },
  {
   "cell_type": "code",
   "execution_count": 4,
   "metadata": {
    "slideshow": {
     "slide_type": "slide"
    }
   },
   "outputs": [
    {
     "name": "stdout",
     "output_type": "stream",
     "text": [
      "[nltk_data] Downloading package punkt to /home/piotr/nltk_data...\n",
      "[nltk_data]   Package punkt is already up-to-date!\n"
     ]
    },
    {
     "data": {
      "text/plain": [
       "['Bolesław',\n",
       " 'Prus',\n",
       " 'Lalka',\n",
       " 'ISBN',\n",
       " '978-83-288-2672-4',\n",
       " 'Tom',\n",
       " 'II',\n",
       " 'I',\n",
       " '.',\n",
       " 'Pamiętnik',\n",
       " 'starego',\n",
       " 'subiekta',\n",
       " 'Sytuacja',\n",
       " 'polityczna',\n",
       " 'jest',\n",
       " 'tak',\n",
       " 'niepewna',\n",
       " ',',\n",
       " 'że',\n",
       " 'wcale']"
      ]
     },
     "execution_count": 4,
     "metadata": {},
     "output_type": "execute_result"
    }
   ],
   "source": [
    "import nltk\n",
    "nltk.download('punkt')  # teraz to jest już niepotrzebne, ale nie zaszkodzi\n",
    "\n",
    "from nltk.tokenize import word_tokenize\n",
    "\n",
    "w = word_tokenize(tekst, language='polish')\n",
    "w[:20]"
   ]
  },
  {
   "cell_type": "markdown",
   "metadata": {
    "slideshow": {
     "slide_type": "slide"
    }
   },
   "source": [
    "## Ćwiczenie 6: Wykonajmy ćwiczenia 2, 3 i 5 za pomoca NLTK. Porównajmy różnice."
   ]
  },
  {
   "cell_type": "markdown",
   "metadata": {
    "slideshow": {
     "slide_type": "slide"
    }
   },
   "source": [
    "## Korzystanie z zasobów internetowych - część II\n",
    "\n",
    "W poprzednim przykładzie dostaliśmy surowy plik tekstowy -- to w rzeczywistym świecie bardzo rzadki przypadek.\n",
    "\n",
    "Często będziemy mieć do czynienia z danymi w formacie XML lub JSON (jeśli mamy szczęście i są ustrukturyzowane) lub HTML (jeśli mamy mniej szczęścia)."
   ]
  },
  {
   "cell_type": "code",
   "execution_count": 5,
   "metadata": {
    "slideshow": {
     "slide_type": "subslide"
    }
   },
   "outputs": [
    {
     "data": {
      "text/plain": [
       "{'avatar_url': 'https://avatars1.githubusercontent.com/u/14312755?v=4',\n",
       " 'bio': None,\n",
       " 'blog': '',\n",
       " 'company': None,\n",
       " 'created_at': '2015-09-16T12:39:53Z',\n",
       " 'email': None,\n",
       " 'events_url': 'https://api.github.com/users/piotrkasprzyk/events{/privacy}',\n",
       " 'followers': 0,\n",
       " 'followers_url': 'https://api.github.com/users/piotrkasprzyk/followers',\n",
       " 'following': 0,\n",
       " 'following_url': 'https://api.github.com/users/piotrkasprzyk/following{/other_user}',\n",
       " 'gists_url': 'https://api.github.com/users/piotrkasprzyk/gists{/gist_id}',\n",
       " 'gravatar_id': '',\n",
       " 'hireable': None,\n",
       " 'html_url': 'https://github.com/piotrkasprzyk',\n",
       " 'id': 14312755,\n",
       " 'location': None,\n",
       " 'login': 'piotrkasprzyk',\n",
       " 'name': 'Piotr Kasprzyk',\n",
       " 'organizations_url': 'https://api.github.com/users/piotrkasprzyk/orgs',\n",
       " 'public_gists': 0,\n",
       " 'public_repos': 6,\n",
       " 'received_events_url': 'https://api.github.com/users/piotrkasprzyk/received_events',\n",
       " 'repos_url': 'https://api.github.com/users/piotrkasprzyk/repos',\n",
       " 'site_admin': False,\n",
       " 'starred_url': 'https://api.github.com/users/piotrkasprzyk/starred{/owner}{/repo}',\n",
       " 'subscriptions_url': 'https://api.github.com/users/piotrkasprzyk/subscriptions',\n",
       " 'type': 'User',\n",
       " 'updated_at': '2017-12-05T11:00:28Z',\n",
       " 'url': 'https://api.github.com/users/piotrkasprzyk'}"
      ]
     },
     "execution_count": 5,
     "metadata": {},
     "output_type": "execute_result"
    }
   ],
   "source": [
    "import requests\n",
    "\n",
    "r = requests.get('https://api.github.com/users/{user}'.format(user='piotrkasprzyk'))\n",
    "j_data = r.json()\n",
    "\n",
    "j_data"
   ]
  },
  {
   "cell_type": "code",
   "execution_count": 6,
   "metadata": {
    "slideshow": {
     "slide_type": "slide"
    }
   },
   "outputs": [
    {
     "name": "stdout",
     "output_type": "stream",
     "text": [
      "Piotr Kasprzyk\n",
      "https://api.github.com/users/piotrkasprzyk\n",
      "https://avatars1.githubusercontent.com/u/14312755?v=4\n"
     ]
    }
   ],
   "source": [
    "# Jak \"widać\" JSON rozparsował się do zwykłego słownika (`dict`)\n",
    "print(j_data['name'])\n",
    "print(j_data['url'])\n",
    "print(j_data['avatar_url'])\n",
    "\n",
    "# Ostatnie jest linkiem do obrazka - avatara. Jego też możemy ściągnąć i wyświetlić."
   ]
  },
  {
   "cell_type": "code",
   "execution_count": 7,
   "metadata": {
    "slideshow": {
     "slide_type": "slide"
    }
   },
   "outputs": [
    {
     "data": {
      "image/png": "[encoded data removed]",
      "text/plain": [
       "<PIL.JpegImagePlugin.JpegImageFile image mode=RGB size=200x200 at 0x7F0A7C3D5F28>"
      ]
     },
     "execution_count": 7,
     "metadata": {},
     "output_type": "execute_result"
    }
   ],
   "source": [
    "from PIL import Image  # ta linijka wymaga biblioteki pillow, która również powinna przyjść z anacondą\n",
    "from io import BytesIO  # a to jest biblioteka standardowa\n",
    "\n",
    "avatar_url = j_data['avatar_url']\n",
    "r = requests.get(avatar_url)\n",
    "i = Image.open(BytesIO(r.content))\n",
    "\n",
    "i"
   ]
  },
  {
   "cell_type": "markdown",
   "metadata": {
    "slideshow": {
     "slide_type": "slide"
    }
   },
   "source": [
    "## Ćwiczenie 7: Wyświetl swój avatar GitHubowy.\n",
    "( dla zainteresowanych: avatar == \"zdjęcie profilowe\", można zmienić w https://github.com/settings/profile )"
   ]
  },
  {
   "cell_type": "markdown",
   "metadata": {
    "slideshow": {
     "slide_type": "slide"
    }
   },
   "source": [
    "## Inny przykład: mojepanstwo.pl\n",
    "\n",
    "https://mojepanstwo.pl/api/"
   ]
  },
  {
   "cell_type": "code",
   "execution_count": 8,
   "metadata": {},
   "outputs": [
    {
     "data": {
      "text/plain": [
       "{'Count': 50,\n",
       " 'Dataobject': [{'data': {'krs_formy_prawne.id': '48',\n",
       "    'krs_formy_prawne.nazwa': 'SPÓŁDZIELCZA KASA OSZCZĘDNOŚCIOWO-KREDYTOWA',\n",
       "    'krs_formy_prawne.typ_id': '1'},\n",
       "   'dataset': 'krs_formy_prawne',\n",
       "   'global_id': '43906579',\n",
       "   'id': '48',\n",
       "   'mp_url': 'https://mojepanstwo.pl/dane/krs_formy_prawne/48',\n",
       "   'schema_url': 'https://api-v3.mojepanstwo.pl/schemas/dane/krs_formy_prawne.json',\n",
       "   'score': None,\n",
       "   'slug': 'spoldzielcza-kasa-oszczednosciowo-kredytowa',\n",
       "   'url': 'https://api-v3.mojepanstwo.pl/dane/krs_formy_prawne/48'},\n",
       "  {'data': {'krs_formy_prawne.id': '43',\n",
       "    'krs_formy_prawne.nazwa': 'ZWIĄZEK RZEMIOSŁA POLSKIEGO',\n",
       "    'krs_formy_prawne.typ_id': '2'},\n",
       "   'dataset': 'krs_formy_prawne',\n",
       "   'global_id': '43906611',\n",
       "   'id': '43',\n",
       "   'mp_url': 'https://mojepanstwo.pl/dane/krs_formy_prawne/43',\n",
       "   'schema_url': 'https://api-v3.mojepanstwo.pl/schemas/dane/krs_formy_prawne.json',\n",
       "   'score': None,\n",
       "   'slug': 'zwiazek-rzemiosla-polskiego',\n",
       "   'url': 'https://api-v3.mojepanstwo.pl/dane/krs_formy_prawne/43'},\n",
       "  {'data': {'krs_formy_prawne.id': '7',\n",
       "    'krs_formy_prawne.nazwa': 'PRZEDSIĘBIORSTWO PAŃSTWOWE',\n",
       "    'krs_formy_prawne.typ_id': '1'},\n",
       "   'dataset': 'krs_formy_prawne',\n",
       "   'global_id': '43906567',\n",
       "   'id': '7',\n",
       "   'mp_url': 'https://mojepanstwo.pl/dane/krs_formy_prawne/7',\n",
       "   'schema_url': 'https://api-v3.mojepanstwo.pl/schemas/dane/krs_formy_prawne.json',\n",
       "   'score': None,\n",
       "   'slug': 'przedsiebiorstwo-panstwowe',\n",
       "   'url': 'https://api-v3.mojepanstwo.pl/dane/krs_formy_prawne/7'},\n",
       "  {'data': {'krs_formy_prawne.id': '16',\n",
       "    'krs_formy_prawne.nazwa': 'STOWARZYSZENIE KULTURY FIZYCZNEJ',\n",
       "    'krs_formy_prawne.typ_id': '2'},\n",
       "   'dataset': 'krs_formy_prawne',\n",
       "   'global_id': '43906588',\n",
       "   'id': '16',\n",
       "   'mp_url': 'https://mojepanstwo.pl/dane/krs_formy_prawne/16',\n",
       "   'schema_url': 'https://api-v3.mojepanstwo.pl/schemas/dane/krs_formy_prawne.json',\n",
       "   'score': None,\n",
       "   'slug': 'stowarzyszenie-kultury-fizycznej',\n",
       "   'url': 'https://api-v3.mojepanstwo.pl/dane/krs_formy_prawne/16'},\n",
       "  {'data': {'krs_formy_prawne.id': '10',\n",
       "    'krs_formy_prawne.nazwa': 'SPÓŁKA AKCYJNA',\n",
       "    'krs_formy_prawne.typ_id': '1'},\n",
       "   'dataset': 'krs_formy_prawne',\n",
       "   'global_id': '43906568',\n",
       "   'id': '10',\n",
       "   'mp_url': 'https://mojepanstwo.pl/dane/krs_formy_prawne/10',\n",
       "   'schema_url': 'https://api-v3.mojepanstwo.pl/schemas/dane/krs_formy_prawne.json',\n",
       "   'score': None,\n",
       "   'slug': 'spolka-akcyjna',\n",
       "   'url': 'https://api-v3.mojepanstwo.pl/dane/krs_formy_prawne/10'},\n",
       "  {'data': {'krs_formy_prawne.id': '12',\n",
       "    'krs_formy_prawne.nazwa': 'SPÓŁKA KOMANDYTOWA',\n",
       "    'krs_formy_prawne.typ_id': '1'},\n",
       "   'dataset': 'krs_formy_prawne',\n",
       "   'global_id': '43906570',\n",
       "   'id': '12',\n",
       "   'mp_url': 'https://mojepanstwo.pl/dane/krs_formy_prawne/12',\n",
       "   'schema_url': 'https://api-v3.mojepanstwo.pl/schemas/dane/krs_formy_prawne.json',\n",
       "   'score': None,\n",
       "   'slug': 'spolka-komandytowa',\n",
       "   'url': 'https://api-v3.mojepanstwo.pl/dane/krs_formy_prawne/12'},\n",
       "  {'data': {'krs_formy_prawne.id': '20',\n",
       "    'krs_formy_prawne.nazwa': 'ZWIĄZEK SPORTOWY',\n",
       "    'krs_formy_prawne.typ_id': '2'},\n",
       "   'dataset': 'krs_formy_prawne',\n",
       "   'global_id': '43906592',\n",
       "   'id': '20',\n",
       "   'mp_url': 'https://mojepanstwo.pl/dane/krs_formy_prawne/20',\n",
       "   'schema_url': 'https://api-v3.mojepanstwo.pl/schemas/dane/krs_formy_prawne.json',\n",
       "   'score': None,\n",
       "   'slug': 'zwiazek-sportowy',\n",
       "   'url': 'https://api-v3.mojepanstwo.pl/dane/krs_formy_prawne/20'},\n",
       "  {'data': {'krs_formy_prawne.id': '23',\n",
       "    'krs_formy_prawne.nazwa': 'STOWARZYSZENIE KULTURY FIZYCZNEJ O ZASIĘGU OGÓLNOKRAJOWYM',\n",
       "    'krs_formy_prawne.typ_id': '2'},\n",
       "   'dataset': 'krs_formy_prawne',\n",
       "   'global_id': '43906595',\n",
       "   'id': '23',\n",
       "   'mp_url': 'https://mojepanstwo.pl/dane/krs_formy_prawne/23',\n",
       "   'schema_url': 'https://api-v3.mojepanstwo.pl/schemas/dane/krs_formy_prawne.json',\n",
       "   'score': None,\n",
       "   'slug': 'stowarzyszenie-kultury-fizycznej-o-zasiegu-ogolnokrajowym',\n",
       "   'url': 'https://api-v3.mojepanstwo.pl/dane/krs_formy_prawne/23'},\n",
       "  {'data': {'krs_formy_prawne.id': '29',\n",
       "    'krs_formy_prawne.nazwa': 'ZWIĄZEK ZAWODOWY ROLNIKÓW INDYWIDUALNYCH',\n",
       "    'krs_formy_prawne.typ_id': '2'},\n",
       "   'dataset': 'krs_formy_prawne',\n",
       "   'global_id': '43906601',\n",
       "   'id': '29',\n",
       "   'mp_url': 'https://mojepanstwo.pl/dane/krs_formy_prawne/29',\n",
       "   'schema_url': 'https://api-v3.mojepanstwo.pl/schemas/dane/krs_formy_prawne.json',\n",
       "   'score': None,\n",
       "   'slug': 'zwiazek-zawodowy-rolnikow-indywidualnych',\n",
       "   'url': 'https://api-v3.mojepanstwo.pl/dane/krs_formy_prawne/29'},\n",
       "  {'data': {'krs_formy_prawne.id': '34',\n",
       "    'krs_formy_prawne.nazwa': 'KOŚCIELNA OSOBA PRAWNA BĘDĄCA ORGANIZACJĄ POŻYTKU PUBLICZNEGO',\n",
       "    'krs_formy_prawne.typ_id': '2'},\n",
       "   'dataset': 'krs_formy_prawne',\n",
       "   'global_id': '43906605',\n",
       "   'id': '34',\n",
       "   'mp_url': 'https://mojepanstwo.pl/dane/krs_formy_prawne/34',\n",
       "   'schema_url': 'https://api-v3.mojepanstwo.pl/schemas/dane/krs_formy_prawne.json',\n",
       "   'score': None,\n",
       "   'slug': 'koscielna-osoba-prawna-bedaca-organizacja-pozytku-publicznego',\n",
       "   'url': 'https://api-v3.mojepanstwo.pl/dane/krs_formy_prawne/34'},\n",
       "  {'data': {'krs_formy_prawne.id': '37',\n",
       "    'krs_formy_prawne.nazwa': 'NIE POSIADAJĄCA OSOBOWOŚCI PRAWNEJ ORGANIZACJA POŻYTKU PUBLICZNEGO',\n",
       "    'krs_formy_prawne.typ_id': '2'},\n",
       "   'dataset': 'krs_formy_prawne',\n",
       "   'global_id': '43906608',\n",
       "   'id': '37',\n",
       "   'mp_url': 'https://mojepanstwo.pl/dane/krs_formy_prawne/37',\n",
       "   'schema_url': 'https://api-v3.mojepanstwo.pl/schemas/dane/krs_formy_prawne.json',\n",
       "   'score': None,\n",
       "   'slug': 'nie-posiadajaca-osobowosci-prawnej-organizacja-pozytku-publicznego',\n",
       "   'url': 'https://api-v3.mojepanstwo.pl/dane/krs_formy_prawne/37'},\n",
       "  {'data': {'krs_formy_prawne.id': '42',\n",
       "    'krs_formy_prawne.nazwa': 'TOWARZYSTWO UBEZPIECZEŃ WZAJEMNYCH',\n",
       "    'krs_formy_prawne.typ_id': '1'},\n",
       "   'dataset': 'krs_formy_prawne',\n",
       "   'global_id': '43906575',\n",
       "   'id': '42',\n",
       "   'mp_url': 'https://mojepanstwo.pl/dane/krs_formy_prawne/42',\n",
       "   'schema_url': 'https://api-v3.mojepanstwo.pl/schemas/dane/krs_formy_prawne.json',\n",
       "   'score': None,\n",
       "   'slug': 'towarzystwo-ubezpieczen-wzajemnych',\n",
       "   'url': 'https://api-v3.mojepanstwo.pl/dane/krs_formy_prawne/42'},\n",
       "  {'data': {'krs_formy_prawne.id': '14',\n",
       "    'krs_formy_prawne.nazwa': 'SPÓŁKA Z OGRANICZONĄ ODPOWIEDZIALNOŚCIĄ',\n",
       "    'krs_formy_prawne.typ_id': '1'},\n",
       "   'dataset': 'krs_formy_prawne',\n",
       "   'global_id': '43906572',\n",
       "   'id': '14',\n",
       "   'mp_url': 'https://mojepanstwo.pl/dane/krs_formy_prawne/14',\n",
       "   'schema_url': 'https://api-v3.mojepanstwo.pl/schemas/dane/krs_formy_prawne.json',\n",
       "   'score': None,\n",
       "   'slug': 'spolka-z-ograniczona-odpowiedzialnoscia',\n",
       "   'url': 'https://api-v3.mojepanstwo.pl/dane/krs_formy_prawne/14'},\n",
       "  {'data': {'krs_formy_prawne.id': '1',\n",
       "    'krs_formy_prawne.nazwa': 'FUNDACJA',\n",
       "    'krs_formy_prawne.typ_id': '2'},\n",
       "   'dataset': 'krs_formy_prawne',\n",
       "   'global_id': '43906580',\n",
       "   'id': '1',\n",
       "   'mp_url': 'https://mojepanstwo.pl/dane/krs_formy_prawne/1',\n",
       "   'schema_url': 'https://api-v3.mojepanstwo.pl/schemas/dane/krs_formy_prawne.json',\n",
       "   'score': None,\n",
       "   'slug': 'fundacja',\n",
       "   'url': 'https://api-v3.mojepanstwo.pl/dane/krs_formy_prawne/1'},\n",
       "  {'data': {'krs_formy_prawne.id': '18',\n",
       "    'krs_formy_prawne.nazwa': 'ZWIĄZEK ZAWODOWY',\n",
       "    'krs_formy_prawne.typ_id': '2'},\n",
       "   'dataset': 'krs_formy_prawne',\n",
       "   'global_id': '43906590',\n",
       "   'id': '18',\n",
       "   'mp_url': 'https://mojepanstwo.pl/dane/krs_formy_prawne/18',\n",
       "   'schema_url': 'https://api-v3.mojepanstwo.pl/schemas/dane/krs_formy_prawne.json',\n",
       "   'score': None,\n",
       "   'slug': 'zwiazek-zawodowy',\n",
       "   'url': 'https://api-v3.mojepanstwo.pl/dane/krs_formy_prawne/18'},\n",
       "  {'data': {'krs_formy_prawne.id': '25',\n",
       "    'krs_formy_prawne.nazwa': 'ZWIĄZEK STOWARZYSZEŃ',\n",
       "    'krs_formy_prawne.typ_id': '2'},\n",
       "   'dataset': 'krs_formy_prawne',\n",
       "   'global_id': '43906597',\n",
       "   'id': '25',\n",
       "   'mp_url': 'https://mojepanstwo.pl/dane/krs_formy_prawne/25',\n",
       "   'schema_url': 'https://api-v3.mojepanstwo.pl/schemas/dane/krs_formy_prawne.json',\n",
       "   'score': None,\n",
       "   'slug': 'zwiazek-stowarzyszen',\n",
       "   'url': 'https://api-v3.mojepanstwo.pl/dane/krs_formy_prawne/25'},\n",
       "  {'data': {'krs_formy_prawne.id': '17',\n",
       "    'krs_formy_prawne.nazwa': 'ZWIĄZEK PRACODAWCÓW',\n",
       "    'krs_formy_prawne.typ_id': '2'},\n",
       "   'dataset': 'krs_formy_prawne',\n",
       "   'global_id': '43906589',\n",
       "   'id': '17',\n",
       "   'mp_url': 'https://mojepanstwo.pl/dane/krs_formy_prawne/17',\n",
       "   'schema_url': 'https://api-v3.mojepanstwo.pl/schemas/dane/krs_formy_prawne.json',\n",
       "   'score': None,\n",
       "   'slug': 'zwiazek-pracodawcow',\n",
       "   'url': 'https://api-v3.mojepanstwo.pl/dane/krs_formy_prawne/17'},\n",
       "  {'data': {'krs_formy_prawne.id': '19',\n",
       "    'krs_formy_prawne.nazwa': 'CECH RZEMIEŚLNICZY',\n",
       "    'krs_formy_prawne.typ_id': '2'},\n",
       "   'dataset': 'krs_formy_prawne',\n",
       "   'global_id': '43906591',\n",
       "   'id': '19',\n",
       "   'mp_url': 'https://mojepanstwo.pl/dane/krs_formy_prawne/19',\n",
       "   'schema_url': 'https://api-v3.mojepanstwo.pl/schemas/dane/krs_formy_prawne.json',\n",
       "   'score': None,\n",
       "   'slug': 'cech-rzemieslniczy',\n",
       "   'url': 'https://api-v3.mojepanstwo.pl/dane/krs_formy_prawne/19'},\n",
       "  {'data': {'krs_formy_prawne.id': '40',\n",
       "    'krs_formy_prawne.nazwa': 'JEDNOSTKA BADAWCZO-ROZWOJOWA',\n",
       "    'krs_formy_prawne.typ_id': '2'},\n",
       "   'dataset': 'krs_formy_prawne',\n",
       "   'global_id': '43906609',\n",
       "   'id': '40',\n",
       "   'mp_url': 'https://mojepanstwo.pl/dane/krs_formy_prawne/40',\n",
       "   'schema_url': 'https://api-v3.mojepanstwo.pl/schemas/dane/krs_formy_prawne.json',\n",
       "   'score': None,\n",
       "   'slug': 'jednostka-badawczo-rozwojowa',\n",
       "   'url': 'https://api-v3.mojepanstwo.pl/dane/krs_formy_prawne/40'},\n",
       "  {'data': {'krs_formy_prawne.id': '46',\n",
       "    'krs_formy_prawne.nazwa': 'INSTYTUCJA GOSPODARKI BUDŻETOWEJ',\n",
       "    'krs_formy_prawne.typ_id': '1'},\n",
       "   'dataset': 'krs_formy_prawne',\n",
       "   'global_id': '43906577',\n",
       "   'id': '46',\n",
       "   'mp_url': 'https://mojepanstwo.pl/dane/krs_formy_prawne/46',\n",
       "   'schema_url': 'https://api-v3.mojepanstwo.pl/schemas/dane/krs_formy_prawne.json',\n",
       "   'score': None,\n",
       "   'slug': 'instytucja-gospodarki-budzetowej',\n",
       "   'url': 'https://api-v3.mojepanstwo.pl/dane/krs_formy_prawne/46'},\n",
       "  {'data': {'krs_formy_prawne.id': '2',\n",
       "    'krs_formy_prawne.nazwa': 'INSTYTUT BADAWCZY',\n",
       "    'krs_formy_prawne.typ_id': '2'},\n",
       "   'dataset': 'krs_formy_prawne',\n",
       "   'global_id': '43906581',\n",
       "   'id': '2',\n",
       "   'mp_url': 'https://mojepanstwo.pl/dane/krs_formy_prawne/2',\n",
       "   'schema_url': 'https://api-v3.mojepanstwo.pl/schemas/dane/krs_formy_prawne.json',\n",
       "   'score': None,\n",
       "   'slug': 'instytut-badawczy',\n",
       "   'url': 'https://api-v3.mojepanstwo.pl/dane/krs_formy_prawne/2'},\n",
       "  {'data': {'krs_formy_prawne.id': '13',\n",
       "    'krs_formy_prawne.nazwa': 'SPÓŁKA PARTNERSKA',\n",
       "    'krs_formy_prawne.typ_id': '1'},\n",
       "   'dataset': 'krs_formy_prawne',\n",
       "   'global_id': '43906571',\n",
       "   'id': '13',\n",
       "   'mp_url': 'https://mojepanstwo.pl/dane/krs_formy_prawne/13',\n",
       "   'schema_url': 'https://api-v3.mojepanstwo.pl/schemas/dane/krs_formy_prawne.json',\n",
       "   'score': None,\n",
       "   'slug': 'spolka-partnerska',\n",
       "   'url': 'https://api-v3.mojepanstwo.pl/dane/krs_formy_prawne/13'},\n",
       "  {'data': {'krs_formy_prawne.id': '33',\n",
       "    'krs_formy_prawne.nazwa': 'OGÓLNOKRAJOWA REPREZENTACJA ZRZESZEŃ HANDLU I USŁUG',\n",
       "    'krs_formy_prawne.typ_id': '2'},\n",
       "   'dataset': 'krs_formy_prawne',\n",
       "   'global_id': '43906604',\n",
       "   'id': '33',\n",
       "   'mp_url': 'https://mojepanstwo.pl/dane/krs_formy_prawne/33',\n",
       "   'schema_url': 'https://api-v3.mojepanstwo.pl/schemas/dane/krs_formy_prawne.json',\n",
       "   'score': None,\n",
       "   'slug': 'ogolnokrajowa-reprezentacja-zrzeszen-handlu-i-uslug',\n",
       "   'url': 'https://api-v3.mojepanstwo.pl/dane/krs_formy_prawne/33'},\n",
       "  {'data': {'krs_formy_prawne.id': '32',\n",
       "    'krs_formy_prawne.nazwa': 'SPÓŁKA KOMANDYTOWO-AKCYJNA',\n",
       "    'krs_formy_prawne.typ_id': '1'},\n",
       "   'dataset': 'krs_formy_prawne',\n",
       "   'global_id': '43906573',\n",
       "   'id': '32',\n",
       "   'mp_url': 'https://mojepanstwo.pl/dane/krs_formy_prawne/32',\n",
       "   'schema_url': 'https://api-v3.mojepanstwo.pl/schemas/dane/krs_formy_prawne.json',\n",
       "   'score': None,\n",
       "   'slug': 'spolka-komandytowo-akcyjna',\n",
       "   'url': 'https://api-v3.mojepanstwo.pl/dane/krs_formy_prawne/32'},\n",
       "  {'data': {'krs_formy_prawne.id': '38',\n",
       "    'krs_formy_prawne.nazwa': 'SPÓŁKA EUROPEJSKA',\n",
       "    'krs_formy_prawne.typ_id': '1'},\n",
       "   'dataset': 'krs_formy_prawne',\n",
       "   'global_id': '43906574',\n",
       "   'id': '38',\n",
       "   'mp_url': 'https://mojepanstwo.pl/dane/krs_formy_prawne/38',\n",
       "   'schema_url': 'https://api-v3.mojepanstwo.pl/schemas/dane/krs_formy_prawne.json',\n",
       "   'score': None,\n",
       "   'slug': 'spolka-europejska',\n",
       "   'url': 'https://api-v3.mojepanstwo.pl/dane/krs_formy_prawne/38'},\n",
       "  {'data': {'krs_formy_prawne.id': '24',\n",
       "    'krs_formy_prawne.nazwa': 'ZRZESZENIE HANDLU I USŁUG',\n",
       "    'krs_formy_prawne.typ_id': '2'},\n",
       "   'dataset': 'krs_formy_prawne',\n",
       "   'global_id': '43906596',\n",
       "   'id': '24',\n",
       "   'mp_url': 'https://mojepanstwo.pl/dane/krs_formy_prawne/24',\n",
       "   'schema_url': 'https://api-v3.mojepanstwo.pl/schemas/dane/krs_formy_prawne.json',\n",
       "   'score': None,\n",
       "   'slug': 'zrzeszenie-handlu-i-uslug',\n",
       "   'url': 'https://api-v3.mojepanstwo.pl/dane/krs_formy_prawne/24'},\n",
       "  {'data': {'krs_formy_prawne.id': '28',\n",
       "    'krs_formy_prawne.nazwa': 'ZWIĄZEK ROLNICZYCH ZRZESZEŃ BRANŻOWYCH',\n",
       "    'krs_formy_prawne.typ_id': '2'},\n",
       "   'dataset': 'krs_formy_prawne',\n",
       "   'global_id': '43906600',\n",
       "   'id': '28',\n",
       "   'mp_url': 'https://mojepanstwo.pl/dane/krs_formy_prawne/28',\n",
       "   'schema_url': 'https://api-v3.mojepanstwo.pl/schemas/dane/krs_formy_prawne.json',\n",
       "   'score': None,\n",
       "   'slug': 'zwiazek-rolniczych-zrzeszen-branzowych',\n",
       "   'url': 'https://api-v3.mojepanstwo.pl/dane/krs_formy_prawne/28'},\n",
       "  {'data': {'krs_formy_prawne.id': '31',\n",
       "    'krs_formy_prawne.nazwa': 'FEDERACJA / KONFEDERACJA ZWIĄZKÓW PRACODAWCÓW',\n",
       "    'krs_formy_prawne.typ_id': '2'},\n",
       "   'dataset': 'krs_formy_prawne',\n",
       "   'global_id': '43906603',\n",
       "   'id': '31',\n",
       "   'mp_url': 'https://mojepanstwo.pl/dane/krs_formy_prawne/31',\n",
       "   'schema_url': 'https://api-v3.mojepanstwo.pl/schemas/dane/krs_formy_prawne.json',\n",
       "   'score': None,\n",
       "   'slug': 'federacja-konfederacja-zwiazkow-pracodawcow',\n",
       "   'url': 'https://api-v3.mojepanstwo.pl/dane/krs_formy_prawne/31'},\n",
       "  {'data': {'krs_formy_prawne.id': '44',\n",
       "    'krs_formy_prawne.nazwa': 'GŁÓWNY ODDZIAŁ ZAGRANICZNEGO ZAKŁADU UBEZPIECZEŃ',\n",
       "    'krs_formy_prawne.typ_id': '1'},\n",
       "   'dataset': 'krs_formy_prawne',\n",
       "   'global_id': '43906576',\n",
       "   'id': '44',\n",
       "   'mp_url': 'https://mojepanstwo.pl/dane/krs_formy_prawne/44',\n",
       "   'schema_url': 'https://api-v3.mojepanstwo.pl/schemas/dane/krs_formy_prawne.json',\n",
       "   'score': None,\n",
       "   'slug': 'glowny-oddzial-zagranicznego-zakladu-ubezpieczen',\n",
       "   'url': 'https://api-v3.mojepanstwo.pl/dane/krs_formy_prawne/44'},\n",
       "  {'data': {'krs_formy_prawne.id': '41',\n",
       "    'krs_formy_prawne.nazwa': 'KOLUMNA TRANSPORTU SANITARNEGO',\n",
       "    'krs_formy_prawne.typ_id': '2'},\n",
       "   'dataset': 'krs_formy_prawne',\n",
       "   'global_id': '43906610',\n",
       "   'id': '41',\n",
       "   'mp_url': 'https://mojepanstwo.pl/dane/krs_formy_prawne/41',\n",
       "   'schema_url': 'https://api-v3.mojepanstwo.pl/schemas/dane/krs_formy_prawne.json',\n",
       "   'score': None,\n",
       "   'slug': 'kolumna-transportu-sanitarnego',\n",
       "   'url': 'https://api-v3.mojepanstwo.pl/dane/krs_formy_prawne/41'},\n",
       "  {'data': {'krs_formy_prawne.id': '50',\n",
       "    'krs_formy_prawne.nazwa': 'STOWARZYSZENIE OGRODOWE',\n",
       "    'krs_formy_prawne.typ_id': '0'},\n",
       "   'dataset': 'krs_formy_prawne',\n",
       "   'global_id': '43906565',\n",
       "   'id': '50',\n",
       "   'mp_url': 'https://mojepanstwo.pl/dane/krs_formy_prawne/50',\n",
       "   'schema_url': 'https://api-v3.mojepanstwo.pl/schemas/dane/krs_formy_prawne.json',\n",
       "   'score': None,\n",
       "   'slug': 'stowarzyszenie-ogrodowe',\n",
       "   'url': 'https://api-v3.mojepanstwo.pl/dane/krs_formy_prawne/50'},\n",
       "  {'data': {'krs_formy_prawne.id': '27',\n",
       "    'krs_formy_prawne.nazwa': 'POLSKI ZWIĄZEK SPORTOWY',\n",
       "    'krs_formy_prawne.typ_id': '2'},\n",
       "   'dataset': 'krs_formy_prawne',\n",
       "   'global_id': '43906599',\n",
       "   'id': '27',\n",
       "   'mp_url': 'https://mojepanstwo.pl/dane/krs_formy_prawne/27',\n",
       "   'schema_url': 'https://api-v3.mojepanstwo.pl/schemas/dane/krs_formy_prawne.json',\n",
       "   'score': None,\n",
       "   'slug': 'polski-zwiazek-sportowy',\n",
       "   'url': 'https://api-v3.mojepanstwo.pl/dane/krs_formy_prawne/27'},\n",
       "  {'data': {'krs_formy_prawne.id': '6',\n",
       "    'krs_formy_prawne.nazwa': 'ODDZIAŁ ZAGRANICZNEGO PRZEDSIĘBIORCY',\n",
       "    'krs_formy_prawne.typ_id': '1'},\n",
       "   'dataset': 'krs_formy_prawne',\n",
       "   'global_id': '43906566',\n",
       "   'id': '6',\n",
       "   'mp_url': 'https://mojepanstwo.pl/dane/krs_formy_prawne/6',\n",
       "   'schema_url': 'https://api-v3.mojepanstwo.pl/schemas/dane/krs_formy_prawne.json',\n",
       "   'score': None,\n",
       "   'slug': 'oddzial-zagranicznego-przedsiebiorcy',\n",
       "   'url': 'https://api-v3.mojepanstwo.pl/dane/krs_formy_prawne/6'},\n",
       "  {'data': {'krs_formy_prawne.id': '4',\n",
       "    'krs_formy_prawne.nazwa': 'IZBA RZEMIEŚLNICZA',\n",
       "    'krs_formy_prawne.typ_id': '2'},\n",
       "   'dataset': 'krs_formy_prawne',\n",
       "   'global_id': '43906583',\n",
       "   'id': '4',\n",
       "   'mp_url': 'https://mojepanstwo.pl/dane/krs_formy_prawne/4',\n",
       "   'schema_url': 'https://api-v3.mojepanstwo.pl/schemas/dane/krs_formy_prawne.json',\n",
       "   'score': None,\n",
       "   'slug': 'izba-rzemieslnicza',\n",
       "   'url': 'https://api-v3.mojepanstwo.pl/dane/krs_formy_prawne/4'},\n",
       "  {'data': {'krs_formy_prawne.id': '21',\n",
       "    'krs_formy_prawne.nazwa': 'OGÓLNOKRAJOWY ZWIĄZEK MIĘDZYBRANŻOWY',\n",
       "    'krs_formy_prawne.typ_id': '2'},\n",
       "   'dataset': 'krs_formy_prawne',\n",
       "   'global_id': '43906593',\n",
       "   'id': '21',\n",
       "   'mp_url': 'https://mojepanstwo.pl/dane/krs_formy_prawne/21',\n",
       "   'schema_url': 'https://api-v3.mojepanstwo.pl/schemas/dane/krs_formy_prawne.json',\n",
       "   'score': None,\n",
       "   'slug': 'ogolnokrajowy-zwiazek-miedzybranzowy',\n",
       "   'url': 'https://api-v3.mojepanstwo.pl/dane/krs_formy_prawne/21'},\n",
       "  {'data': {'krs_formy_prawne.id': '45',\n",
       "    'krs_formy_prawne.nazwa': 'OGÓLNOKRAJOWA REPREZENTACJA ZRZESZEŃ TRANSPORTU',\n",
       "    'krs_formy_prawne.typ_id': '2'},\n",
       "   'dataset': 'krs_formy_prawne',\n",
       "   'global_id': '43906612',\n",
       "   'id': '45',\n",
       "   'mp_url': 'https://mojepanstwo.pl/dane/krs_formy_prawne/45',\n",
       "   'schema_url': 'https://api-v3.mojepanstwo.pl/schemas/dane/krs_formy_prawne.json',\n",
       "   'score': None,\n",
       "   'slug': 'ogolnokrajowa-reprezentacja-zrzeszen-transportu',\n",
       "   'url': 'https://api-v3.mojepanstwo.pl/dane/krs_formy_prawne/45'},\n",
       "  {'data': {'krs_formy_prawne.id': '5',\n",
       "    'krs_formy_prawne.nazwa': 'KÓŁKO ROLNICZE',\n",
       "    'krs_formy_prawne.typ_id': '2'},\n",
       "   'dataset': 'krs_formy_prawne',\n",
       "   'global_id': '43906584',\n",
       "   'id': '5',\n",
       "   'mp_url': 'https://mojepanstwo.pl/dane/krs_formy_prawne/5',\n",
       "   'schema_url': 'https://api-v3.mojepanstwo.pl/schemas/dane/krs_formy_prawne.json',\n",
       "   'score': None,\n",
       "   'slug': 'kolko-rolnicze',\n",
       "   'url': 'https://api-v3.mojepanstwo.pl/dane/krs_formy_prawne/5'},\n",
       "  {'data': {'krs_formy_prawne.id': '47',\n",
       "    'krs_formy_prawne.nazwa': 'SPÓŁDZIELCZA KASA OSCZĘDNOŚCIOWO-KREDYTOWA',\n",
       "    'krs_formy_prawne.typ_id': '1'},\n",
       "   'dataset': 'krs_formy_prawne',\n",
       "   'global_id': '43906578',\n",
       "   'id': '47',\n",
       "   'mp_url': 'https://mojepanstwo.pl/dane/krs_formy_prawne/47',\n",
       "   'schema_url': 'https://api-v3.mojepanstwo.pl/schemas/dane/krs_formy_prawne.json',\n",
       "   'score': None,\n",
       "   'slug': 'spoldzielcza-kasa-osczednosciowo-kredytowa',\n",
       "   'url': 'https://api-v3.mojepanstwo.pl/dane/krs_formy_prawne/47'},\n",
       "  {'data': {'krs_formy_prawne.id': '36',\n",
       "    'krs_formy_prawne.nazwa': 'NIE POSIADAJĄCA OSOBOWOŚCI PRAWNEJ INSTYTUCJA KOŚCIELNA BĘDĄCA ORGANIZACJĄ POŻYTKU PUBLICZNEGO',\n",
       "    'krs_formy_prawne.typ_id': '2'},\n",
       "   'dataset': 'krs_formy_prawne',\n",
       "   'global_id': '43906607',\n",
       "   'id': '36',\n",
       "   'mp_url': 'https://mojepanstwo.pl/dane/krs_formy_prawne/36',\n",
       "   'schema_url': 'https://api-v3.mojepanstwo.pl/schemas/dane/krs_formy_prawne.json',\n",
       "   'score': None,\n",
       "   'slug': 'nie-posiadajaca-osobowosci-prawnej-instytucja-koscielna-bedaca-organizacja-pozytku-publicznego',\n",
       "   'url': 'https://api-v3.mojepanstwo.pl/dane/krs_formy_prawne/36'},\n",
       "  {'data': {'krs_formy_prawne.id': '9',\n",
       "    'krs_formy_prawne.nazwa': 'SPÓŁDZIELNIA',\n",
       "    'krs_formy_prawne.typ_id': '2'},\n",
       "   'dataset': 'krs_formy_prawne',\n",
       "   'global_id': '43906586',\n",
       "   'id': '9',\n",
       "   'mp_url': 'https://mojepanstwo.pl/dane/krs_formy_prawne/9',\n",
       "   'schema_url': 'https://api-v3.mojepanstwo.pl/schemas/dane/krs_formy_prawne.json',\n",
       "   'score': None,\n",
       "   'slug': 'spoldzielnia',\n",
       "   'url': 'https://api-v3.mojepanstwo.pl/dane/krs_formy_prawne/9'},\n",
       "  {'data': {'krs_formy_prawne.id': '11',\n",
       "    'krs_formy_prawne.nazwa': 'SPÓŁKA JAWNA',\n",
       "    'krs_formy_prawne.typ_id': '1'},\n",
       "   'dataset': 'krs_formy_prawne',\n",
       "   'global_id': '43906569',\n",
       "   'id': '11',\n",
       "   'mp_url': 'https://mojepanstwo.pl/dane/krs_formy_prawne/11',\n",
       "   'schema_url': 'https://api-v3.mojepanstwo.pl/schemas/dane/krs_formy_prawne.json',\n",
       "   'score': None,\n",
       "   'slug': 'spolka-jawna',\n",
       "   'url': 'https://api-v3.mojepanstwo.pl/dane/krs_formy_prawne/11'},\n",
       "  {'data': {'krs_formy_prawne.id': '8',\n",
       "    'krs_formy_prawne.nazwa': 'ROLNICZE ZRZESZENIE BRANŻOWE',\n",
       "    'krs_formy_prawne.typ_id': '2'},\n",
       "   'dataset': 'krs_formy_prawne',\n",
       "   'global_id': '43906585',\n",
       "   'id': '8',\n",
       "   'mp_url': 'https://mojepanstwo.pl/dane/krs_formy_prawne/8',\n",
       "   'schema_url': 'https://api-v3.mojepanstwo.pl/schemas/dane/krs_formy_prawne.json',\n",
       "   'score': None,\n",
       "   'slug': 'rolnicze-zrzeszenie-branzowe',\n",
       "   'url': 'https://api-v3.mojepanstwo.pl/dane/krs_formy_prawne/8'},\n",
       "  {'data': {'krs_formy_prawne.id': '49',\n",
       "    'krs_formy_prawne.nazwa': 'JEDNOSTKA TERENOWA STOWARZYSZENIA POSIADAJĄCA OSOBOWOŚĆ PRAWNĄ',\n",
       "    'krs_formy_prawne.typ_id': '0'},\n",
       "   'dataset': 'krs_formy_prawne',\n",
       "   'global_id': '43906564',\n",
       "   'id': '49',\n",
       "   'mp_url': 'https://mojepanstwo.pl/dane/krs_formy_prawne/49',\n",
       "   'schema_url': 'https://api-v3.mojepanstwo.pl/schemas/dane/krs_formy_prawne.json',\n",
       "   'score': None,\n",
       "   'slug': 'jednostka-terenowa-stowarzyszenia-posiadajaca-osobowosc-prawna',\n",
       "   'url': 'https://api-v3.mojepanstwo.pl/dane/krs_formy_prawne/49'},\n",
       "  {'data': {'krs_formy_prawne.id': '35',\n",
       "    'krs_formy_prawne.nazwa': 'INNA OSOBA PRAWNA BĘDĄCA ORGANIZACJĄ POŻYTKU PUBLICZNEGO',\n",
       "    'krs_formy_prawne.typ_id': '2'},\n",
       "   'dataset': 'krs_formy_prawne',\n",
       "   'global_id': '43906606',\n",
       "   'id': '35',\n",
       "   'mp_url': 'https://mojepanstwo.pl/dane/krs_formy_prawne/35',\n",
       "   'schema_url': 'https://api-v3.mojepanstwo.pl/schemas/dane/krs_formy_prawne.json',\n",
       "   'score': None,\n",
       "   'slug': 'inna-osoba-prawna-bedaca-organizacja-pozytku-publicznego',\n",
       "   'url': 'https://api-v3.mojepanstwo.pl/dane/krs_formy_prawne/35'},\n",
       "  {'data': {'krs_formy_prawne.id': '26',\n",
       "    'krs_formy_prawne.nazwa': 'ZRZESZENIE TRANSPORTU',\n",
       "    'krs_formy_prawne.typ_id': '2'},\n",
       "   'dataset': 'krs_formy_prawne',\n",
       "   'global_id': '43906598',\n",
       "   'id': '26',\n",
       "   'mp_url': 'https://mojepanstwo.pl/dane/krs_formy_prawne/26',\n",
       "   'schema_url': 'https://api-v3.mojepanstwo.pl/schemas/dane/krs_formy_prawne.json',\n",
       "   'score': None,\n",
       "   'slug': 'zrzeszenie-transportu',\n",
       "   'url': 'https://api-v3.mojepanstwo.pl/dane/krs_formy_prawne/26'},\n",
       "  {'data': {'krs_formy_prawne.id': '3',\n",
       "    'krs_formy_prawne.nazwa': 'IZBA GOSPODARCZA',\n",
       "    'krs_formy_prawne.typ_id': '2'},\n",
       "   'dataset': 'krs_formy_prawne',\n",
       "   'global_id': '43906582',\n",
       "   'id': '3',\n",
       "   'mp_url': 'https://mojepanstwo.pl/dane/krs_formy_prawne/3',\n",
       "   'schema_url': 'https://api-v3.mojepanstwo.pl/schemas/dane/krs_formy_prawne.json',\n",
       "   'score': None,\n",
       "   'slug': 'izba-gospodarcza',\n",
       "   'url': 'https://api-v3.mojepanstwo.pl/dane/krs_formy_prawne/3'},\n",
       "  {'data': {'krs_formy_prawne.id': '39',\n",
       "    'krs_formy_prawne.nazwa': 'SAMODZIELNY PUBLICZNY ZAKŁAD OPIEKI ZDROWOTNEJ',\n",
       "    'krs_formy_prawne.typ_id': '3'},\n",
       "   'dataset': 'krs_formy_prawne',\n",
       "   'global_id': '43906613',\n",
       "   'id': '39',\n",
       "   'mp_url': 'https://mojepanstwo.pl/dane/krs_formy_prawne/39',\n",
       "   'schema_url': 'https://api-v3.mojepanstwo.pl/schemas/dane/krs_formy_prawne.json',\n",
       "   'score': None,\n",
       "   'slug': 'samodzielny-publiczny-zaklad-opieki-zdrowotnej',\n",
       "   'url': 'https://api-v3.mojepanstwo.pl/dane/krs_formy_prawne/39'},\n",
       "  {'data': {'krs_formy_prawne.id': '15',\n",
       "    'krs_formy_prawne.nazwa': 'STOWARZYSZENIE',\n",
       "    'krs_formy_prawne.typ_id': '2'},\n",
       "   'dataset': 'krs_formy_prawne',\n",
       "   'global_id': '43906587',\n",
       "   'id': '15',\n",
       "   'mp_url': 'https://mojepanstwo.pl/dane/krs_formy_prawne/15',\n",
       "   'schema_url': 'https://api-v3.mojepanstwo.pl/schemas/dane/krs_formy_prawne.json',\n",
       "   'score': None,\n",
       "   'slug': 'stowarzyszenie',\n",
       "   'url': 'https://api-v3.mojepanstwo.pl/dane/krs_formy_prawne/15'},\n",
       "  {'data': {'krs_formy_prawne.id': '30',\n",
       "    'krs_formy_prawne.nazwa': 'OGÓLNOKRAJOWE ZRZESZENIE MIĘDZYBRANŻOWE',\n",
       "    'krs_formy_prawne.typ_id': '2'},\n",
       "   'dataset': 'krs_formy_prawne',\n",
       "   'global_id': '43906602',\n",
       "   'id': '30',\n",
       "   'mp_url': 'https://mojepanstwo.pl/dane/krs_formy_prawne/30',\n",
       "   'schema_url': 'https://api-v3.mojepanstwo.pl/schemas/dane/krs_formy_prawne.json',\n",
       "   'score': None,\n",
       "   'slug': 'ogolnokrajowe-zrzeszenie-miedzybranzowe',\n",
       "   'url': 'https://api-v3.mojepanstwo.pl/dane/krs_formy_prawne/30'},\n",
       "  {'data': {'krs_formy_prawne.id': '22',\n",
       "    'krs_formy_prawne.nazwa': 'ZWIĄZKI ROLNIKÓW, KÓŁEK I ORGANIZACJI ROLNICZYCH',\n",
       "    'krs_formy_prawne.typ_id': '2'},\n",
       "   'dataset': 'krs_formy_prawne',\n",
       "   'global_id': '43906594',\n",
       "   'id': '22',\n",
       "   'mp_url': 'https://mojepanstwo.pl/dane/krs_formy_prawne/22',\n",
       "   'schema_url': 'https://api-v3.mojepanstwo.pl/schemas/dane/krs_formy_prawne.json',\n",
       "   'score': None,\n",
       "   'slug': 'zwiazki-rolnikow-kolek-i-organizacji-rolniczych',\n",
       "   'url': 'https://api-v3.mojepanstwo.pl/dane/krs_formy_prawne/22'}],\n",
       " 'Links': {'self': 'https://api-v3.mojepanstwo.pl/dane/krs_formy_prawne.json?_type=objects'},\n",
       " 'Took': 23}"
      ]
     },
     "execution_count": 8,
     "metadata": {},
     "output_type": "execute_result"
    }
   ],
   "source": [
    "r = requests.get('https://api-v3.mojepanstwo.pl/dane/krs_formy_prawne.json')\n",
    "\n",
    "json_data = r.json()\n",
    "\n",
    "json_data"
   ]
  },
  {
   "cell_type": "markdown",
   "metadata": {
    "slideshow": {
     "slide_type": "slide"
    }
   },
   "source": [
    "## Ćwiczenie 8: Znajdź identyfikator formy prawnej \"kółko rolnicze\" w bazie mojepanstwo.pl\n",
    "( pomocny link: https://api-v3.mojepanstwo.pl/dane/krs_formy_prawne.json )"
   ]
  },
  {
   "cell_type": "markdown",
   "metadata": {
    "slideshow": {
     "slide_type": "slide"
    }
   },
   "source": [
    "## Ćwiczenie 9: Ustal, ile jest kółek rolniczych w bazie mojepanstwo.pl\n",
    "( pomocny link: https://api-v3.mojepanstwo.pl/dane/krs_podmioty.json?conditions[krs_podmioty.forma_prawna_id]={id-formy-prawnej} )"
   ]
  },
  {
   "cell_type": "markdown",
   "metadata": {
    "slideshow": {
     "slide_type": "slide"
    }
   },
   "source": [
    "## Następne zajęcia: 19 grudnia 2017, 16:30\n",
    "### Dziś nie ma nowej pracy domowej. Proszę natomiast, żeby wszyscy zrobili zaległe prace domowe (także \"dla ambitnych\").\n",
    "Proszę o wrzucenie ich do swojego repozytorium do 16 grudnia 2017 (sobota), do godziny 23:59."
   ]
  }
 ],
 "metadata": {
  "celltoolbar": "Slideshow",
  "kernelspec": {
   "display_name": "Python 3",
   "language": "python",
   "name": "python3"
  },
  "language_info": {
   "codemirror_mode": {
    "name": "ipython",
    "version": 3
   },
   "file_extension": ".py",
   "mimetype": "text/x-python",
   "name": "python",
   "nbconvert_exporter": "python",
   "pygments_lexer": "ipython3",
   "version": "3.5.2"
  }
 },
 "nbformat": 4,
 "nbformat_minor": 2
}
