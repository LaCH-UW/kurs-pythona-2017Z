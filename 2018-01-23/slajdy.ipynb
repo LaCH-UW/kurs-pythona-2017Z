{
 "cells": [
  {
   "cell_type": "markdown",
   "metadata": {
    "slideshow": {
     "slide_type": "slide"
    }
   },
   "source": [
    "# Python w badaniach humanistycznych\n",
    "## Zajęcia 6"
   ]
  },
  {
   "cell_type": "markdown",
   "metadata": {
    "slideshow": {
     "slide_type": "slide"
    }
   },
   "source": [
    "Zaczniemy jak zwykle od zaciągnięcia materiałów z GitHuba."
   ]
  },
  {
   "cell_type": "markdown",
   "metadata": {
    "slideshow": {
     "slide_type": "fragment"
    }
   },
   "source": [
    "(0a) Linuksowcy/Macowcy przechodzą terminalem do katalogu, w którym sklonowaliśmy materiały do zajęć (repozytorium o nazwie `kurs-pythona-2017Z-<login-githubowy>`) - `cd ~/tutaj/mam/ten/katalog/kurs-pythona-2017Z-piotrkasprzyk`.\n",
    "\n",
    "(0b) Windowsowcy uruchamiają Git Bash, a potem przechodzą tamże - `cd /c/Users/ja/Pulpit/kurs-pythona-2017Z-piotrkasprzyk`.\n",
    "\n",
    "(1) `git fetch upstream`\n",
    "\n",
    "(2) `git checkout master`\n",
    "\n",
    "(3) `git stash`\n",
    "\n",
    "(4) `git merge upstream/master`\n",
    "\n",
    "(5) `git stash pop`"
   ]
  },
  {
   "cell_type": "markdown",
   "metadata": {
    "slideshow": {
     "slide_type": "slide"
    }
   },
   "source": [
    "Powinniśmy wzbogacić się o pliki `2018-01-23/zajecia.ipynb` (ćwiczenia na zajęciach), `2018-01-23/slajdy.ipynb` (materiały z wykładu) i garść nowych plików w `dane`."
   ]
  },
  {
   "cell_type": "markdown",
   "metadata": {
    "slideshow": {
     "slide_type": "slide"
    }
   },
   "source": [
    "## Korespondencja seryjna\n",
    "Czyli wyślijmy wreszcie tego maila"
   ]
  },
  {
   "cell_type": "markdown",
   "metadata": {
    "slideshow": {
     "slide_type": "subslide"
    }
   },
   "source": [
    "## Jak działa email?\n",
    "\n",
    "Koncepcyjnie: wiadomość email składa się z pewnej liczby pól nagłówkowych (zob. np. https://en.wikipedia.org/wiki/Email#Header_fields), a nich treści. Całość jest jednym długim stringiem.\n",
    "\n",
    "Żeby wysłać email musimy połączyć się z jakimś serwerem pocztowym, (opcjonalnie) przekonać go, że mamy prawo wysyłać emaile, po czym podać mu wiadomość do wysłania i adres jej odbiorcy.\n",
    "\n",
    "Ciekawostka: zarówno adres nadawcy, jak i odbiorcy, jest w nagłówkach emaila; to z nich nasz klient pocztowy bierze informacje. Serwer przekazujący pocztę oczekuje jednak, że obie te informacje otrzyma explicite, i często nie sprawdza na ile się one zgadzają z nagłówkami. Umożliwia to czasem trochę (odpowiedzialnej) zabawy."
   ]
  },
  {
   "cell_type": "code",
   "execution_count": 1,
   "metadata": {
    "slideshow": {
     "slide_type": "slide"
    }
   },
   "outputs": [
    {
     "data": {
      "text/plain": [
       "''"
      ]
     },
     "execution_count": 1,
     "metadata": {},
     "output_type": "execute_result"
    }
   ],
   "source": [
    "import smtplib\n",
    "import getpass\n",
    "\n",
    "# msg_text = '\\r\\n'.join([\n",
    "#     'From: Zaphod Beeblebrox <zaphod@gov.galaxy>',\n",
    "#     'To: Piotr Kasprzyk <p.kasprzyk@uw.edu.pl>',\n",
    "#     'Subject: Testowy mail',\n",
    "#     'Drogi Piotrze,',\n",
    "#     'Piszę właśnie do Ciebie w ważnej sprawie',\n",
    "#     '    Pozdrawiam',\n",
    "#     '    JA']).encode('utf-8')\n",
    "\n",
    "# my_address = 'p.kasprzyk@lach.edu.pl'\n",
    "\n",
    "# connection = smtplib.SMTP('smtp.lach.edu.pl', 587)\n",
    "# connection.ehlo()\n",
    "# connection.starttls()\n",
    "# passwd = getpass.getpass()\n",
    "# print(connection.login(my_address, passwd))\n",
    "\n",
    "# connection.sendmail('p.kasprzyk@lach.edu.pl', 'p.kasprzyk@uw.edu.pl', msg_text)\n",
    "# connection.quit()\n",
    "\n",
    "''"
   ]
  },
  {
   "cell_type": "markdown",
   "metadata": {
    "slideshow": {
     "slide_type": "slide"
    }
   },
   "source": [
    "#### Uwaga:\n",
    "GMail (czyli także np. poczta UW) przy takim logowaniu będzie robiła nam wstręty. Obejść to można generując hasło aplikacyjne (przy logowaniu 2-stopniowym) lub włączając (czasowo) opcję https://myaccount.google.com/lesssecureapps. Albo mając dodatkowe konto na innym serwerze i odpowiednio ustawiając nagłówki (co najmniej `Reply-To`).\n",
    "\n",
    "Osoby zainteresowane wysyłaniem bardziej rozbudowanych maili (np. z załącznikami, formatowaniem etc.) powinny zaprzyjaźnić się z modułem `email` https://docs.python.org/3/library/email.html#module-email."
   ]
  },
  {
   "cell_type": "markdown",
   "metadata": {
    "slideshow": {
     "slide_type": "slide"
    }
   },
   "source": [
    "## Ćwiczenie 1: Wyślij ciekawego maila do prowadzącego"
   ]
  },
  {
   "cell_type": "markdown",
   "metadata": {
    "slideshow": {
     "slide_type": "slide"
    }
   },
   "source": [
    "## Interakcja z plikami Worda, Excela, PDFami..."
   ]
  },
  {
   "cell_type": "markdown",
   "metadata": {
    "slideshow": {
     "slide_type": "subslide"
    }
   },
   "source": [
    "W skrócie: kluczowe jest znalezienie modułu, który ciężką pracę zrobi za nas. Zobaczymy teraz kilka takich modułów.\n",
    "\n",
    "Wszystkie muszą zostać doinstalowane (zob. https://conda.io/docs/user-guide/tasks/manage-pkgs.html#installing-packages-from-anaconda-org)"
   ]
  },
  {
   "cell_type": "markdown",
   "metadata": {
    "slideshow": {
     "slide_type": "slide"
    }
   },
   "source": [
    "Na początek: \"nowy Excel\" (`.xlsx`) i wpływy do budżetu - dane z https://danepubliczne.gov.pl/dataset/wplywy_budzetowe vs biblioteka `openpyxl`."
   ]
  },
  {
   "cell_type": "code",
   "execution_count": 2,
   "metadata": {
    "slideshow": {
     "slide_type": "subslide"
    }
   },
   "outputs": [
    {
     "name": "stdout",
     "output_type": "stream",
     "text": [
      "A 1 Wyszczególnienie\n",
      "B 1 Wpływy budżetowe w tys. zł\n",
      "C 1 W tym kwoty zaległości budżetowych ściągniętych w drodze egzekucji w tys. zł\n",
      "D 1 None\n",
      "E 1 None\n",
      "Podatek dochodowy od osób prawnych bez odliczenia udziałów dla jednostek samorządu terytorialnego\n",
      "Wyszczególnienie\n",
      "Podatek dochodowy od osób prawnych bez odliczenia udziałów dla jednostek samorządu terytorialnego\n",
      "Podatek dochodowy od osób fizycznych bez odliczenia udziałów dla jednostek samorządu terytorialnego\n",
      "Podatek od towarów i usług\n",
      "Podatek od niektórych instytucji finansowych\n",
      "Podatek akcyzowy\n",
      "Podatek od gier\n",
      "Podatki zniesione\n",
      "Cła\n"
     ]
    }
   ],
   "source": [
    "import openpyxl\n",
    "# https://openpyxl.readthedocs.io/en/default/tutorial.html\n",
    "\n",
    "budget_fname = '../dane/budzet/2017_1.xlsx'\n",
    "wb = openpyxl.load_workbook(budget_fname)\n",
    "sheet = wb.worksheets[0]\n",
    "\n",
    "header_row = list(sheet.rows)[0]\n",
    "for header_cell in header_row:\n",
    "    print(header_cell.column, header_cell.row, header_cell.value)\n",
    "    \n",
    "print(sheet['A2'].value)\n",
    "\n",
    "first_column = list(sheet.columns)[0]\n",
    "for name_cell in first_column:\n",
    "    print(name_cell.value)\n",
    "\n",
    "wb.close()"
   ]
  },
  {
   "cell_type": "markdown",
   "metadata": {
    "slideshow": {
     "slide_type": "slide"
    }
   },
   "source": [
    "## Ćwiczenie 2: Policz łączne wpływy z podatku akcyzowego w latach 2013-2016"
   ]
  },
  {
   "cell_type": "markdown",
   "metadata": {
    "slideshow": {
     "slide_type": "slide"
    }
   },
   "source": [
    "Drugi przykład: \"stary Excel\" (`.xls`) i \"absencje chorobowe\" - dane z https://danepubliczne.gov.pl/dataset/absencja_chorobowa vs biblioteka `xlrd`."
   ]
  },
  {
   "cell_type": "code",
   "execution_count": 3,
   "metadata": {
    "slideshow": {
     "slide_type": "subslide"
    }
   },
   "outputs": [
    {
     "name": "stdout",
     "output_type": "stream",
     "text": [
      "OGÓŁEM\n",
      "213392670.0\n",
      "17333946.0\n",
      "\n",
      "\n",
      "\n",
      "1 dzień\n",
      "414495.0\n",
      "414495.0\n",
      "2.0\n",
      "1304242.0\n",
      "652121.0\n",
      "3.0\n",
      "3044451.0\n",
      "1014817.0\n"
     ]
    }
   ],
   "source": [
    "import xlrd\n",
    "# z dokumentacją nie ma szału...\n",
    "# https://github.com/python-excel/tutorial/raw/master/python-excel.pdf\n",
    "# https://xlrd.readthedocs.io/en/latest/\n",
    "# ale głównie należy wołać help() i dir() na czym się da...\n",
    "\n",
    "absence_fname = '../dane/zus/2013.xls'\n",
    "wb = xlrd.open_workbook(absence_fname)\n",
    "sheet = wb.sheet_by_index(0)\n",
    "\n",
    "for i in range(sheet.nrows):\n",
    "    for cell in sheet.row(i):\n",
    "        if cell.value == 'OGÓŁEM':\n",
    "            start_row = i\n",
    "            break\n",
    "\n",
    "for i in range(start_row, start_row + 5):\n",
    "    for cell in sheet.row(i):\n",
    "        print(cell.value)\n"
   ]
  },
  {
   "cell_type": "markdown",
   "metadata": {
    "slideshow": {
     "slide_type": "slide"
    }
   },
   "source": [
    "## Ćwiczenie 3: Zrób wykres średniej długości absencji chorobowej rok do roku za lata 2013-2016"
   ]
  },
  {
   "cell_type": "markdown",
   "metadata": {
    "slideshow": {
     "slide_type": "slide"
    }
   },
   "source": [
    "Kolejny przykład: \"nowy Word\" (`docx`) i Polskie Badanie Przestępczości 2017 (też https://danepubliczne.gov.pl) vs `python-docx`."
   ]
  },
  {
   "cell_type": "code",
   "execution_count": 4,
   "metadata": {
    "slideshow": {
     "slide_type": "subslide"
    }
   },
   "outputs": [
    {
     "name": "stdout",
     "output_type": "stream",
     "text": [
      "55\n",
      "2\n",
      " \n",
      "Fachowość i kompetencje policjantów\n",
      "Możliwość łatwego kontaktu z dzielnicowym\n",
      "Otwartość policjantów na problemy ludzi, gotowość do niesienia pomocy\n",
      "Przyjmowanie zawiadomień o przestępstwie bez zbywania i bagatelizowania sprawy\n",
      "Sprawne i szybkie prowadzenie postępowań, bez zbędnych formalności\n",
      "Uczciwość, nieprzekupność policjantów\n",
      "Możliwość łatwego dodzwonienia się pod numer alarmowy 997 lub 112\n",
      "Obecność patroli Policji w mojej okolicy\n",
      "Skuteczność Policji (m.in. zatrzymanie przestępców, odzyskanie mienia)\n",
      "Szybkie przybycie policjantów po wezwaniu na miejsce zdarzenia\n",
      "Trudno powiedzieć\n"
     ]
    }
   ],
   "source": [
    "import docx  # wymaga instalacji modułu python-docx\n",
    "# https://python-docx.readthedocs.io/en/latest/index.html\n",
    "\n",
    "pbp_fname = '../dane/pbp.docx'\n",
    "doc = docx.Document(pbp_fname)\n",
    "\n",
    "print(len(doc.paragraphs))\n",
    "print(len(doc.tables))\n",
    "second_table = doc.tables[1]\n",
    "title_column = second_table.columns[0]\n",
    "for cell in title_column.cells:\n",
    "    print(cell.text)"
   ]
  },
  {
   "cell_type": "markdown",
   "metadata": {
    "slideshow": {
     "slide_type": "slide"
    }
   },
   "source": [
    "## Ćwiczenie 4: Zrób wykres zmian oceny ważności \"Przyjmowania zawiadomień o przestępstwie...\" w latach 2012-2017."
   ]
  },
  {
   "cell_type": "markdown",
   "metadata": {
    "slideshow": {
     "slide_type": "slide"
    }
   },
   "source": [
    "Kolejny przykład: PDF. Tutaj różnie bywa z dostępnymi danymi.\n",
    "\n",
    "* Można trafić na zeskanowane i \"zPDFizowane\" kartki (np. https://danepubliczne.gov.pl/dataset/sprawozdanie-z-dzialalnosci-pot-w-2016-roku) - z nimi cudów nie zrobimy.\n",
    "* Istnieją oczywiście PDFy z tekstem - wyciąganie go i tak bywa niewygodne, ale można walczyć: `pypdf2` vs \"Plan działania POT na 2018 rok\" https://danepubliczne.gov.pl/dataset/plan-dzialania-na-rok-2018"
   ]
  },
  {
   "cell_type": "code",
   "execution_count": 5,
   "metadata": {
    "slideshow": {
     "slide_type": "subslide"
    }
   },
   "outputs": [
    {
     "name": "stdout",
     "output_type": "stream",
     "text": [
      "130\n",
      "103\n",
      " \n",
      " \n",
      "\n",
      " \n",
      "Obszar\n",
      " \n",
      "Budowa pozytywnego wizerunku\n",
      " \n",
      "Projekt nr i temat \n",
      "projektu\n",
      " \n",
      "Projekt nr 1 Pozna\n"
     ]
    }
   ],
   "source": [
    "import PyPDF2  # wymaga instalacji pypdf2\n",
    "# https://pythonhosted.org/PyPDF2/\n",
    "\n",
    "pot_fname = '../dane/pot_2018.pdf'\n",
    "with open(pot_fname, 'rb') as fp:  # 'rb' oznacz odczyt w trybie binarnym (nie otwieramy pliku jako tekst, tylko surowe dane)\n",
    "    pdf = PyPDF2.PdfFileReader(fp)\n",
    "    print(pdf.numPages)\n",
    "    a_page = pdf.getPage(102)\n",
    "    print(a_page.extractText()[:100])\n"
   ]
  },
  {
   "cell_type": "markdown",
   "metadata": {
    "slideshow": {
     "slide_type": "slide"
    }
   },
   "source": [
    "## Dziękuję bardzo."
   ]
  }
 ],
 "metadata": {
  "celltoolbar": "Slideshow",
  "kernelspec": {
   "display_name": "Python 3",
   "language": "python",
   "name": "python3"
  },
  "language_info": {
   "codemirror_mode": {
    "name": "ipython",
    "version": 3
   },
   "file_extension": ".py",
   "mimetype": "text/x-python",
   "name": "python",
   "nbconvert_exporter": "python",
   "pygments_lexer": "ipython3",
   "version": "3.5.2"
  }
 },
 "nbformat": 4,
 "nbformat_minor": 2
}
